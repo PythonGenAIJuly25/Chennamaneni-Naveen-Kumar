{
  "nbformat": 4,
  "nbformat_minor": 0,
  "metadata": {
    "colab": {
      "provenance": []
    },
    "kernelspec": {
      "name": "python3",
      "display_name": "Python 3"
    },
    "language_info": {
      "name": "python"
    }
  },
  "cells": [
    {
      "cell_type": "code",
      "execution_count": null,
      "metadata": {
        "id": "1FzmOoH3VNVr"
      },
      "outputs": [],
      "source": []
    },
    {
      "cell_type": "markdown",
      "source": [
        "Assignment 1: Creating and Accessing Dictionaries\n",
        "Create a dictionary with the first 10 positive integers as keys and their squares as values. Print the dictionary."
      ],
      "metadata": {
        "id": "mBy07DgXVQn_"
      }
    },
    {
      "cell_type": "code",
      "source": [
        "squares = {x: x**2 for x in range(1, 11)}\n",
        "print(squares)\n"
      ],
      "metadata": {
        "colab": {
          "base_uri": "https://localhost:8080/"
        },
        "id": "7gThac52VR31",
        "outputId": "f9f13726-20f6-4a32-926c-0528e9fa3b5e"
      },
      "execution_count": 1,
      "outputs": [
        {
          "output_type": "stream",
          "name": "stdout",
          "text": [
            "{1: 1, 2: 4, 3: 9, 4: 16, 5: 25, 6: 36, 7: 49, 8: 64, 9: 81, 10: 100}\n"
          ]
        }
      ]
    },
    {
      "cell_type": "markdown",
      "source": [
        "Assignment 2: Accessing Dictionary Elements\n",
        "Print the value of the key 5 and the keys of the dictionary created in Assignment 1."
      ],
      "metadata": {
        "id": "uIDS5aF1Ve8J"
      }
    },
    {
      "cell_type": "code",
      "source": [
        "print(\"Value of key 5:\", squares[5])\n",
        "print(\"All keys:\", list(squares.keys()))\n"
      ],
      "metadata": {
        "colab": {
          "base_uri": "https://localhost:8080/"
        },
        "id": "YVKeZyhoVgAi",
        "outputId": "e2141997-96f4-46b2-a3c0-48bcfd26b5e9"
      },
      "execution_count": 2,
      "outputs": [
        {
          "output_type": "stream",
          "name": "stdout",
          "text": [
            "Value of key 5: 25\n",
            "All keys: [1, 2, 3, 4, 5, 6, 7, 8, 9, 10]\n"
          ]
        }
      ]
    },
    {
      "cell_type": "markdown",
      "source": [
        "Assignment 3: Dictionary Methods\n",
        "Add a new key-value pair (11, 121) to the dictionary created in Assignment 1 and then remove the key-value pair with key 1. Print the modified dictionary."
      ],
      "metadata": {
        "id": "xt1owVLIVgoI"
      }
    },
    {
      "cell_type": "code",
      "source": [
        "squares[11] = 121\n",
        "squares.pop(1)\n",
        "print(squares)\n"
      ],
      "metadata": {
        "colab": {
          "base_uri": "https://localhost:8080/"
        },
        "id": "OX2UIMwlVh_4",
        "outputId": "c5b87971-8a2e-4611-8aa3-7de47c06c305"
      },
      "execution_count": 3,
      "outputs": [
        {
          "output_type": "stream",
          "name": "stdout",
          "text": [
            "{2: 4, 3: 9, 4: 16, 5: 25, 6: 36, 7: 49, 8: 64, 9: 81, 10: 100, 11: 121}\n"
          ]
        }
      ]
    },
    {
      "cell_type": "markdown",
      "source": [
        "Assignment 4: Iterating Over Dictionaries\n",
        "Iterate over the dictionary created in Assignment 1 and print each key-value pair."
      ],
      "metadata": {
        "id": "bqe0Pq5RViiT"
      }
    },
    {
      "cell_type": "code",
      "source": [
        "for key, value in squares.items():\n",
        "    print(f\"{key}: {value}\")\n"
      ],
      "metadata": {
        "colab": {
          "base_uri": "https://localhost:8080/"
        },
        "id": "qL8PawsIVlL5",
        "outputId": "0a7d6033-f1dd-455f-d45a-fd222c7edf01"
      },
      "execution_count": 4,
      "outputs": [
        {
          "output_type": "stream",
          "name": "stdout",
          "text": [
            "2: 4\n",
            "3: 9\n",
            "4: 16\n",
            "5: 25\n",
            "6: 36\n",
            "7: 49\n",
            "8: 64\n",
            "9: 81\n",
            "10: 100\n",
            "11: 121\n"
          ]
        }
      ]
    },
    {
      "cell_type": "markdown",
      "source": [
        "Assignment 5: Dictionary Comprehensions\n",
        "Create a new dictionary containing the cubes of the first 10 positive integers using a dictionary comprehension. Print the new dictionary."
      ],
      "metadata": {
        "id": "R4-JuP6_VmgT"
      }
    },
    {
      "cell_type": "code",
      "source": [
        "cubes = {x: x**3 for x in range(1, 11)}\n",
        "print(cubes)\n"
      ],
      "metadata": {
        "colab": {
          "base_uri": "https://localhost:8080/"
        },
        "id": "AoLl5avGVm1t",
        "outputId": "a39f0ba2-5c4d-4284-8686-dafb79260766"
      },
      "execution_count": 5,
      "outputs": [
        {
          "output_type": "stream",
          "name": "stdout",
          "text": [
            "{1: 1, 2: 8, 3: 27, 4: 64, 5: 125, 6: 216, 7: 343, 8: 512, 9: 729, 10: 1000}\n"
          ]
        }
      ]
    },
    {
      "cell_type": "markdown",
      "source": [
        "Assignment 6: Merging Dictionaries\n",
        "Create two dictionaries: one with keys as the first 5 positive integers and values as their squares, and another with keys as the next 5 positive integers and values as their squares. Merge these dictionaries into a single dictionary and print it."
      ],
      "metadata": {
        "id": "CpnCmYg6VpCJ"
      }
    },
    {
      "cell_type": "code",
      "source": [
        "dict1 = {x: x**2 for x in range(1, 6)}\n",
        "dict2 = {x: x**2 for x in range(6, 11)}\n",
        "merged = {**dict1, **dict2}\n",
        "print(merged)\n"
      ],
      "metadata": {
        "colab": {
          "base_uri": "https://localhost:8080/"
        },
        "id": "8lhJoqySVpZV",
        "outputId": "3cd4e9a3-c4ca-42e5-b091-a281553a9e8a"
      },
      "execution_count": 6,
      "outputs": [
        {
          "output_type": "stream",
          "name": "stdout",
          "text": [
            "{1: 1, 2: 4, 3: 9, 4: 16, 5: 25, 6: 36, 7: 49, 8: 64, 9: 81, 10: 100}\n"
          ]
        }
      ]
    },
    {
      "cell_type": "markdown",
      "source": [
        "Assignment 7: Nested Dictionaries\n",
        "Create a nested dictionary representing a student with keys 'name', 'age', 'grades', where 'grades' is another dictionary with keys 'math', 'science', and 'english'. Print the nested dictionary."
      ],
      "metadata": {
        "id": "VCsjlOLqVrEL"
      }
    },
    {
      "cell_type": "code",
      "source": [
        "student = {\n",
        "    \"name\": \"Naveen\",\n",
        "    \"age\": 21,\n",
        "    \"grades\": {\n",
        "        \"math\": 90,\n",
        "        \"science\": 85,\n",
        "        \"english\": 88\n",
        "    }\n",
        "}\n",
        "print(student)\n"
      ],
      "metadata": {
        "colab": {
          "base_uri": "https://localhost:8080/"
        },
        "id": "b-S2xKppVrY9",
        "outputId": "c9d5414b-611d-4e65-e93d-65df81cc4b24"
      },
      "execution_count": 19,
      "outputs": [
        {
          "output_type": "stream",
          "name": "stdout",
          "text": [
            "{'name': 'Naveen', 'age': 21, 'grades': {'math': 90, 'science': 85, 'english': 88}}\n"
          ]
        }
      ]
    },
    {
      "cell_type": "markdown",
      "source": [
        "Assignment 8: Dictionary of Lists\n",
        "Create a dictionary where the keys are the first 5 positive integers and the values are lists containing the first 5 multiples of the key. Print the dictionary."
      ],
      "metadata": {
        "id": "OmRdh_v4VszA"
      }
    },
    {
      "cell_type": "code",
      "source": [
        "multiples = {x: [x * i for i in range(1, 6)] for x in range(1, 6)}\n",
        "print(multiples)\n"
      ],
      "metadata": {
        "colab": {
          "base_uri": "https://localhost:8080/"
        },
        "id": "70opW26IVtK6",
        "outputId": "61fe7709-f73e-44d4-8216-27417e3d3915"
      },
      "execution_count": 8,
      "outputs": [
        {
          "output_type": "stream",
          "name": "stdout",
          "text": [
            "{1: [1, 2, 3, 4, 5], 2: [2, 4, 6, 8, 10], 3: [3, 6, 9, 12, 15], 4: [4, 8, 12, 16, 20], 5: [5, 10, 15, 20, 25]}\n"
          ]
        }
      ]
    },
    {
      "cell_type": "markdown",
      "source": [
        "Assignment 9: Dictionary of Tuples\n",
        "Create a dictionary where the keys are the first 5 positive integers and the values are tuples containing the key and its square. Print the dictionary."
      ],
      "metadata": {
        "id": "lm-I22VWVwrz"
      }
    },
    {
      "cell_type": "code",
      "source": [
        "tuple_dict = {x: (x, x**2) for x in range(1, 6)}\n",
        "print(tuple_dict)\n"
      ],
      "metadata": {
        "colab": {
          "base_uri": "https://localhost:8080/"
        },
        "id": "BOrVjgYaVw-_",
        "outputId": "c7cf2825-2ed7-4a4e-aa4a-438f2a9937c1"
      },
      "execution_count": 9,
      "outputs": [
        {
          "output_type": "stream",
          "name": "stdout",
          "text": [
            "{1: (1, 1), 2: (2, 4), 3: (3, 9), 4: (4, 16), 5: (5, 25)}\n"
          ]
        }
      ]
    },
    {
      "cell_type": "markdown",
      "source": [
        "Assignment 10: Dictionary and List Conversion\n",
        "Create a dictionary with the first 5 positive integers as keys and their squares as values. Convert the dictionary to a list of tuples and print it."
      ],
      "metadata": {
        "id": "6h0_DqZ_VyNN"
      }
    },
    {
      "cell_type": "code",
      "source": [
        "sample_dict = {x: x**2 for x in range(1, 6)}\n",
        "tuple_list = list(sample_dict.items())\n",
        "print(tuple_list)\n"
      ],
      "metadata": {
        "colab": {
          "base_uri": "https://localhost:8080/"
        },
        "id": "BsOttqmJVyhq",
        "outputId": "181a861b-8dcb-4d09-d167-a5f2f0f5a74c"
      },
      "execution_count": 10,
      "outputs": [
        {
          "output_type": "stream",
          "name": "stdout",
          "text": [
            "[(1, 1), (2, 4), (3, 9), (4, 16), (5, 25)]\n"
          ]
        }
      ]
    },
    {
      "cell_type": "markdown",
      "source": [
        "Assignment 11: Dictionary Filtering\n",
        "Create a dictionary with the first 10 positive integers as keys and their squares as values. Create a new dictionary containing only the key-value pairs where the key is even. Print the new dictionary."
      ],
      "metadata": {
        "id": "JRSkE_0mVzkH"
      }
    },
    {
      "cell_type": "code",
      "source": [
        "even_dict = {k: v for k, v in squares.items() if k % 2 == 0}\n",
        "print(even_dict)\n"
      ],
      "metadata": {
        "colab": {
          "base_uri": "https://localhost:8080/"
        },
        "id": "zSlZBSZ6Vz2e",
        "outputId": "94d4f153-2ea9-4398-cf40-6dbf37ff40f6"
      },
      "execution_count": 11,
      "outputs": [
        {
          "output_type": "stream",
          "name": "stdout",
          "text": [
            "{2: 4, 4: 16, 6: 36, 8: 64, 10: 100}\n"
          ]
        }
      ]
    },
    {
      "cell_type": "markdown",
      "source": [
        "Assignment 12: Dictionary Key and Value Transformation\n",
        "Create a dictionary with the first 5 positive integers as keys and their squares as values. Create a new dictionary with keys and values swapped. Print the new dictionary."
      ],
      "metadata": {
        "id": "CVtsVEgEV1T5"
      }
    },
    {
      "cell_type": "code",
      "source": [
        "original = {x: x**2 for x in range(1, 6)}\n",
        "swapped = {v: k for k, v in original.items()}\n",
        "print(swapped)\n"
      ],
      "metadata": {
        "colab": {
          "base_uri": "https://localhost:8080/"
        },
        "id": "iRPEUE9bV1l4",
        "outputId": "e7476f4b-a769-4169-d602-d799206ca29f"
      },
      "execution_count": 12,
      "outputs": [
        {
          "output_type": "stream",
          "name": "stdout",
          "text": [
            "{1: 1, 4: 2, 9: 3, 16: 4, 25: 5}\n"
          ]
        }
      ]
    },
    {
      "cell_type": "markdown",
      "source": [
        "Assignment 13: Default Dictionary\n",
        "Create a default dictionary where each key has a default value of an empty list. Add some elements to the lists and print the dictionary."
      ],
      "metadata": {
        "id": "qG2GZ0zkV39b"
      }
    },
    {
      "cell_type": "code",
      "source": [
        "dd = defaultdict(list)\n",
        "dd['fruits'].append('apple')\n",
        "dd['fruits'].append('banana')\n",
        "dd['veggies'].append('carrot')\n",
        "print(dd)\n"
      ],
      "metadata": {
        "colab": {
          "base_uri": "https://localhost:8080/"
        },
        "id": "0sJU0nzhV4Qx",
        "outputId": "c5c3baee-a236-49e0-8445-7332eaa59e31"
      },
      "execution_count": 14,
      "outputs": [
        {
          "output_type": "stream",
          "name": "stdout",
          "text": [
            "defaultdict(<class 'list'>, {'fruits': ['apple', 'banana'], 'veggies': ['carrot']})\n"
          ]
        }
      ]
    },
    {
      "cell_type": "markdown",
      "source": [
        "Assignment 14: Counting with Dictionaries\n",
        "Write a function that takes a string and returns a dictionary with the count of each character in the string. Print the dictionary."
      ],
      "metadata": {
        "id": "gnB8bv88V5bK"
      }
    },
    {
      "cell_type": "code",
      "source": [
        "def char_count(s):\n",
        "    count = {}\n",
        "    for char in s:\n",
        "        count[char] = count.get(char, 0) + 1\n",
        "    return count\n",
        "\n",
        "print(char_count(\"Naveen\"))\n"
      ],
      "metadata": {
        "colab": {
          "base_uri": "https://localhost:8080/"
        },
        "id": "gA521kRhV5v_",
        "outputId": "c5c8b1fd-1f3c-4835-bd36-c45b24d1344a"
      },
      "execution_count": 17,
      "outputs": [
        {
          "output_type": "stream",
          "name": "stdout",
          "text": [
            "{'N': 1, 'a': 1, 'v': 1, 'e': 2, 'n': 1}\n"
          ]
        }
      ]
    },
    {
      "cell_type": "markdown",
      "source": [
        "Assignment 15: Dictionary and JSON\n",
        "Create a dictionary representing a book with keys 'title', 'author', 'year', and 'genre'. Convert the dictionary to a JSON string and print it."
      ],
      "metadata": {
        "id": "0xTctyqcV67X"
      }
    },
    {
      "cell_type": "code",
      "source": [
        "import json\n",
        "\n",
        "book = {\n",
        "    \"title\": \"python\",\n",
        "    \"author\": \"Naveen\",\n",
        "    \"year\": 2025,\n",
        "    \"genre\": \"Programming lang\"}\n",
        "\n",
        "json_str = json.dumps(book)\n",
        "print(json_str)\n"
      ],
      "metadata": {
        "colab": {
          "base_uri": "https://localhost:8080/"
        },
        "id": "vURfGSmqV7QF",
        "outputId": "84bfc901-806b-4132-a20d-0acd47c81442"
      },
      "execution_count": 18,
      "outputs": [
        {
          "output_type": "stream",
          "name": "stdout",
          "text": [
            "{\"title\": \"python\", \"author\": \"Naveen\", \"year\": 2025, \"genre\": \"Programming lang\"}\n"
          ]
        }
      ]
    },
    {
      "cell_type": "code",
      "source": [],
      "metadata": {
        "id": "pvRjKqSyWlcA"
      },
      "execution_count": null,
      "outputs": []
    }
  ]
}
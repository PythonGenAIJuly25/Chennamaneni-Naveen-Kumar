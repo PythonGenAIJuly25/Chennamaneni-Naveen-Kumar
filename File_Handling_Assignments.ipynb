{
  "nbformat": 4,
  "nbformat_minor": 0,
  "metadata": {
    "colab": {
      "provenance": []
    },
    "kernelspec": {
      "name": "python3",
      "display_name": "Python 3"
    },
    "language_info": {
      "name": "python"
    }
  },
  "cells": [
    {
      "cell_type": "code",
      "execution_count": null,
      "metadata": {
        "id": "-HnZmSdWLnJC"
      },
      "outputs": [],
      "source": []
    },
    {
      "cell_type": "markdown",
      "source": [
        "Assignment 1: Reading a File\n",
        "Write a function that reads the contents of a file named sample.txt and prints each line."
      ],
      "metadata": {
        "id": "QlMbQTbwLuCj"
      }
    },
    {
      "cell_type": "code",
      "source": [
        "def read_file():\n",
        "    with open(\"sample.txt\", \"r\") as file:\n",
        "        for line in file:\n",
        "            print(line.strip())\n"
      ],
      "metadata": {
        "id": "Dsca2vJkLufT"
      },
      "execution_count": 1,
      "outputs": []
    },
    {
      "cell_type": "markdown",
      "source": [
        "Assignment 2: Writing to a File\n",
        "Write a function that writes a list of strings to a file named output.txt, with each string on a new line."
      ],
      "metadata": {
        "id": "v4hWlSMfLwul"
      }
    },
    {
      "cell_type": "code",
      "source": [
        "def write_to_file(lines):\n",
        "    with open(\"output.txt\", \"w\") as file:\n",
        "        for line in lines:\n",
        "            file.write(line + \"\\n\")\n"
      ],
      "metadata": {
        "id": "YsfoYdqLLxLH"
      },
      "execution_count": 2,
      "outputs": []
    },
    {
      "cell_type": "markdown",
      "source": [
        "Assignment 3: Copying a File\n",
        "Write a function that copies the contents of a file named source.txt to a new file named destination.txt."
      ],
      "metadata": {
        "id": "0T3fN5J7Ly9l"
      }
    },
    {
      "cell_type": "code",
      "source": [
        "def copy_file():\n",
        "    with open(\"source.txt\", \"r\") as src,\n",
        "    open(\"destination.txt\", \"w\") as dst:\n",
        "        for line in src:\n",
        "            dst.write(line)\n"
      ],
      "metadata": {
        "id": "AyZYPGcjLzYD"
      },
      "execution_count": null,
      "outputs": []
    },
    {
      "cell_type": "markdown",
      "source": [
        "Assignment 4: Appending to a File\n",
        "Write a function that appends a given string to the end of a file named log.txt"
      ],
      "metadata": {
        "id": "KjHSjhKsL1AI"
      }
    },
    {
      "cell_type": "code",
      "source": [
        "def append_to_log(text):\n",
        "    with open(\"log.txt\", \"a\") as file:\n",
        "        file.write(text + \"\\n\")\n"
      ],
      "metadata": {
        "id": "BcAQI_--L1al"
      },
      "execution_count": 4,
      "outputs": []
    },
    {
      "cell_type": "markdown",
      "source": [
        "Assignment 5: Counting Words in a File\n",
        "Write a function that reads the contents of a file named document.txt and returns the number of words in the file."
      ],
      "metadata": {
        "id": "OO63OdmYL282"
      }
    },
    {
      "cell_type": "code",
      "source": [
        "def count_words():\n",
        "    with open(\"document.txt\", \"r\") as file:\n",
        "        content = file.read()\n",
        "        words = content.split()\n",
        "        return len(words)"
      ],
      "metadata": {
        "id": "qE4n9QVoL3XB"
      },
      "execution_count": 5,
      "outputs": []
    },
    {
      "cell_type": "markdown",
      "source": [
        "Assignment 6: Finding and Replacing Text\n",
        "Write a function that finds and replaces all occurrences of a given word in a file named data.txt with another word."
      ],
      "metadata": {
        "id": "yzVrREZvL4mY"
      }
    },
    {
      "cell_type": "code",
      "source": [
        "def find_and_replace(old_word, new_word):\n",
        "    with open(\"data.txt\", \"r\") as file:\n",
        "        content = file.read()\n",
        "    content = content.replace(old_word, new_word)\n",
        "    with open(\"data.txt\", \"w\") as file:\n",
        "        file.write(content)"
      ],
      "metadata": {
        "id": "TgMxeRg9L5DW"
      },
      "execution_count": null,
      "outputs": []
    },
    {
      "cell_type": "markdown",
      "source": [
        "Assignment 7: Reading a File in Reverse\n",
        "Write a function that reads the contents of a file named reverse.txt and prints each line in reverse order."
      ],
      "metadata": {
        "id": "CEz30rzqL7Ti"
      }
    },
    {
      "cell_type": "code",
      "source": [
        "def read_in_reverse():\n",
        "    with open(\"reverse.txt\", \"r\") as file:\n",
        "        lines = file.readlines()\n",
        "    for line in reversed(lines):\n",
        "        print(line.strip())"
      ],
      "metadata": {
        "id": "s5kdzbSjL7un"
      },
      "execution_count": 6,
      "outputs": []
    },
    {
      "cell_type": "markdown",
      "source": [
        "Assignment 8: Counting Lines, Words, and Characters\n",
        "Write a function that reads the contents of a file named stats.txt and returns the number of lines, words, and characters in the file."
      ],
      "metadata": {
        "id": "GJld5EjAL9Nv"
      }
    },
    {
      "cell_type": "code",
      "source": [
        "def file_stats():\n",
        "    with open(\"stats.txt\", \"r\") as file:\n",
        "        lines = file.readlines()\n",
        "    num_lines = len(lines)\n",
        "    num_words = sum(len(line.split()) for line in lines)\n",
        "    num_chars = sum(len(line) for line in lines)\n",
        "    return num_lines, num_words, num_chars"
      ],
      "metadata": {
        "id": "6E7LPi06L9nc"
      },
      "execution_count": 7,
      "outputs": []
    },
    {
      "cell_type": "markdown",
      "source": [
        "Assignment 9: Merging Multiple Files\n",
        "Write a function that merges the contents of multiple files into a single file named merged.txt."
      ],
      "metadata": {
        "id": "O2IUtBA5L_ZY"
      }
    },
    {
      "cell_type": "code",
      "source": [
        "def merge_files(file_list):\n",
        "    with open(\"merged.txt\", \"w\") as outfile:\n",
        "        for filename in file_list:\n",
        "            with open(filename, \"r\") as infile:\n",
        "                outfile.write(infile.read() + \"\\n\")"
      ],
      "metadata": {
        "id": "fjx65nAIL_zI"
      },
      "execution_count": 8,
      "outputs": []
    },
    {
      "cell_type": "markdown",
      "source": [
        "Assignment 10: Splitting a Large File\n",
        "Write a function that splits a large file named large.txt into smaller files of 100 lines each."
      ],
      "metadata": {
        "id": "uQBUJa94MBlx"
      }
    },
    {
      "cell_type": "code",
      "source": [
        "def split_large_file():\n",
        "    with open(\"large.txt\", \"r\") as file:\n",
        "        lines = file.readlines()\n",
        "    for i in range(0, len(lines), 100):\n",
        "        part = lines[i:i + 100]\n",
        "        with open(f\"part_{i//100 + 1}.txt\", \"w\") as f:\n",
        "            f.writelines(part)"
      ],
      "metadata": {
        "id": "tQojD3QTMB-9"
      },
      "execution_count": null,
      "outputs": []
    },
    {
      "cell_type": "markdown",
      "source": [
        "Assignment 11: Creating a Log File\n",
        "Write a function that creates a log file named activity.log and writes log messages with timestamps."
      ],
      "metadata": {
        "id": "lLMt_oAKMEbu"
      }
    },
    {
      "cell_type": "code",
      "source": [
        "def create_log(message):\n",
        "    with open(\"activity.log\", \"a\") as file:\n",
        "        timestamp = datetime.now().strftime(\"%Y-%m-%d %H:%M:%S\")\n",
        "        file.write(f\"[{timestamp}] {message}\\n\")"
      ],
      "metadata": {
        "id": "C8HwF1ENME5L"
      },
      "execution_count": 10,
      "outputs": []
    },
    {
      "cell_type": "markdown",
      "source": [
        "Assignment 12: Binary File Operations\n",
        "Write a function that reads a binary file named image.bin and writes its contents to another binary file named copy_image.bin"
      ],
      "metadata": {
        "id": "_6Lt4-nBMIC-"
      }
    },
    {
      "cell_type": "code",
      "source": [
        "def copy_binary_file():\n",
        "    with open(\"image.bin\", \"rb\") as src, open(\"copy_image.bin\", \"wb\") as dst:\n",
        "        dst.write(src.read())"
      ],
      "metadata": {
        "id": "uwJM5C4YMIdj"
      },
      "execution_count": 9,
      "outputs": []
    },
    {
      "cell_type": "markdown",
      "source": [
        "Assignment 13: CSV File Operations\n",
        "Write a function that reads a CSV file named data.csv and prints its contents as a list of dictionaries"
      ],
      "metadata": {
        "id": "napnfG9GMKtZ"
      }
    },
    {
      "cell_type": "code",
      "source": [
        "def read_csv():\n",
        "    with open(\"data.csv\", \"r\") as file:\n",
        "        reader = csv.DictReader(file)\n",
        "        for row in reader:\n",
        "            print(dict(row))"
      ],
      "metadata": {
        "id": "Xoo3eievMLGM"
      },
      "execution_count": null,
      "outputs": []
    },
    {
      "cell_type": "markdown",
      "source": [
        "Assignment 14: JSON File Operations\n",
        "Write a function that reads a JSON file named data.json and prints its contents as a Python dictionary."
      ],
      "metadata": {
        "id": "DEB-QX8FMMx_"
      }
    },
    {
      "cell_type": "code",
      "source": [
        "def read_json():\n",
        "    with open(\"data.json\", \"r\") as file:\n",
        "        data = json.load(file)\n",
        "        print(data)"
      ],
      "metadata": {
        "id": "4b6N27xjMNOS"
      },
      "execution_count": 13,
      "outputs": []
    },
    {
      "cell_type": "markdown",
      "source": [
        "Assignment 15: File Permission Handling\n",
        "Write a function that attempts to read a file named protected.txt and handles any permission errors gracefully by printing an error message."
      ],
      "metadata": {
        "id": "e2AIA2DQMOt3"
      }
    },
    {
      "cell_type": "code",
      "source": [
        "def read_protected_file():\n",
        "    try:\n",
        "        with open(\"protected.txt\", \"r\") as file:\n",
        "            print(file.read())\n",
        "    except PermissionError:\n",
        "        print(\"Permission decliend: unable to read 'protected.txt'\")"
      ],
      "metadata": {
        "id": "uN_GJkJ5MPIP"
      },
      "execution_count": 12,
      "outputs": []
    },
    {
      "cell_type": "code",
      "source": [],
      "metadata": {
        "id": "ylht3gHDNrpt"
      },
      "execution_count": null,
      "outputs": []
    }
  ]
}
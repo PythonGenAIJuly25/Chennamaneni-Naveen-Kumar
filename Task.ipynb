{
  "nbformat": 4,
  "nbformat_minor": 0,
  "metadata": {
    "colab": {
      "provenance": []
    },
    "kernelspec": {
      "name": "python3",
      "display_name": "Python 3"
    },
    "language_info": {
      "name": "python"
    }
  },
  "cells": [
    {
      "cell_type": "code",
      "execution_count": null,
      "metadata": {
        "id": "_o8RxLyMObMM"
      },
      "outputs": [],
      "source": []
    },
    {
      "cell_type": "markdown",
      "source": [
        "\n",
        "TASK: Build a simple calcucalor"
      ],
      "metadata": {
        "id": "tHn62x9zOheL"
      }
    },
    {
      "cell_type": "code",
      "source": [
        "a = float(input(\"First: \"))\n",
        "b = float(input(\"Second: \"))\n",
        "op = input(\"Op (+ - * /): \")\n",
        "\n",
        "if op == \"+\": print(a + b)\n",
        "elif op == \"-\": print(a - b)\n",
        "elif op == \"*\": print(a * b)\n",
        "elif op == \"/\": print(\"Err\" if b == 0 else a / b)\n",
        "else: print(\"Invalid op\")"
      ],
      "metadata": {
        "colab": {
          "base_uri": "https://localhost:8080/"
        },
        "id": "mDy1a-RAOiFj",
        "outputId": "8abb7943-4b8a-4aae-fb36-b4806652312f"
      },
      "execution_count": 1,
      "outputs": [
        {
          "output_type": "stream",
          "name": "stdout",
          "text": [
            "First: 10\n",
            "Second: 30\n",
            "Op (+ - * /): *\n",
            "300.0\n"
          ]
        }
      ]
    },
    {
      "cell_type": "code",
      "source": [],
      "metadata": {
        "id": "qTgQujPMOyb0"
      },
      "execution_count": null,
      "outputs": []
    },
    {
      "cell_type": "markdown",
      "source": [
        "TASK: WAPP to check if the given year is leap year or not."
      ],
      "metadata": {
        "id": "0q3pxZn9PBxV"
      }
    },
    {
      "cell_type": "code",
      "source": [
        "y = int(input(\"Year: \"))\n",
        "print(\"Leap Year\" if y%4==0 and\n",
        "      (y%100!=0 or y%400==0) else \"Not Leap Year\")\n"
      ],
      "metadata": {
        "colab": {
          "base_uri": "https://localhost:8080/"
        },
        "id": "D_y2cfIzPCM1",
        "outputId": "b071fd96-5d61-4279-8f0f-d15a2f457e04"
      },
      "execution_count": 3,
      "outputs": [
        {
          "output_type": "stream",
          "name": "stdout",
          "text": [
            "Year: 2003\n",
            "Not Leap Year\n"
          ]
        }
      ]
    },
    {
      "cell_type": "markdown",
      "source": [
        "l = [1,2,3,2,4,5,1,5]\n",
        "dups = [x for x in set(l) if l.count(x) > 1]\n",
        "print(dups)\n"
      ],
      "metadata": {
        "id": "kw38ryH1Pc2G"
      }
    },
    {
      "cell_type": "code",
      "source": [
        "l = [1,2,3,2,4,5,1,5]\n",
        "dups = [x for x in set(l) if l.count(x) > 1]\n",
        "print(dups)\n"
      ],
      "metadata": {
        "colab": {
          "base_uri": "https://localhost:8080/"
        },
        "id": "plJmV_nPPZ5C",
        "outputId": "e41de4ae-a691-424b-e20a-158f7548d007"
      },
      "execution_count": 4,
      "outputs": [
        {
          "output_type": "stream",
          "name": "stdout",
          "text": [
            "[1, 2, 5]\n"
          ]
        }
      ]
    },
    {
      "cell_type": "code",
      "source": [],
      "metadata": {
        "id": "ep2fH9oMPaWj"
      },
      "execution_count": null,
      "outputs": []
    },
    {
      "cell_type": "markdown",
      "source": [
        "TASK : how many times each letter has occured in the given sentence"
      ],
      "metadata": {
        "id": "1IFAuutmPe91"
      }
    },
    {
      "cell_type": "code",
      "source": [
        "s = \"Chennamaneni Naveen Kumar\"\n",
        "for c in set(s):\n",
        "    if c.isalpha():\n",
        "        print(c, s.count(c))\n"
      ],
      "metadata": {
        "colab": {
          "base_uri": "https://localhost:8080/"
        },
        "id": "GIjZzseTPfTV",
        "outputId": "7f1a23a3-1a57-444e-9403-02ff2d8df1dd"
      },
      "execution_count": 8,
      "outputs": [
        {
          "output_type": "stream",
          "name": "stdout",
          "text": [
            "e 4\n",
            "m 2\n",
            "N 1\n",
            "K 1\n",
            "n 5\n",
            "u 1\n",
            "r 1\n",
            "C 1\n",
            "a 4\n",
            "i 1\n",
            "h 1\n",
            "v 1\n"
          ]
        }
      ]
    },
    {
      "cell_type": "code",
      "source": [],
      "metadata": {
        "id": "GdmY6Xg-PlVE"
      },
      "execution_count": null,
      "outputs": []
    },
    {
      "cell_type": "markdown",
      "source": [
        "TASK : count the occurances of vowels"
      ],
      "metadata": {
        "id": "Uz6nbK90PqB8"
      }
    },
    {
      "cell_type": "code",
      "source": [
        "s = \"NAveen Kumar rao\"\n",
        "print({v: s.lower().count(v) for v in \"aeiou\"})\n"
      ],
      "metadata": {
        "colab": {
          "base_uri": "https://localhost:8080/"
        },
        "id": "WmVhxYiGPqdy",
        "outputId": "54b2f2e6-2328-4cb0-a11c-a66cbc147711"
      },
      "execution_count": 7,
      "outputs": [
        {
          "output_type": "stream",
          "name": "stdout",
          "text": [
            "{'a': 3, 'e': 2, 'i': 0, 'o': 1, 'u': 1}\n"
          ]
        }
      ]
    },
    {
      "cell_type": "markdown",
      "source": [
        "TASK: concat 2 dicts,"
      ],
      "metadata": {
        "id": "d2nv1crUQIbv"
      }
    },
    {
      "cell_type": "code",
      "source": [
        "d1 = {'a': 1}\n",
        "d2 = {'b': 2}\n",
        "d1.update(d2)\n",
        "print(d1)\n"
      ],
      "metadata": {
        "colab": {
          "base_uri": "https://localhost:8080/"
        },
        "id": "srgQTQy2QGQO",
        "outputId": "7f473ced-87e4-4edd-879e-523cf6407de8"
      },
      "execution_count": 9,
      "outputs": [
        {
          "output_type": "stream",
          "name": "stdout",
          "text": [
            "{'a': 1, 'b': 2}\n"
          ]
        }
      ]
    },
    {
      "cell_type": "markdown",
      "source": [
        "TASK: factorial of a number using reduce function in python"
      ],
      "metadata": {
        "id": "_pq4Y6iFQL3B"
      }
    },
    {
      "cell_type": "code",
      "source": [
        "from functools import reduce\n",
        "n = 5\n",
        "fact = reduce(lambda x, y: x * y, range(1, n+1))\n",
        "print(fact)\n"
      ],
      "metadata": {
        "colab": {
          "base_uri": "https://localhost:8080/"
        },
        "id": "HsUlERA_QGyD",
        "outputId": "c7e90220-2eea-4d8a-925c-b56d96b18eb6"
      },
      "execution_count": 10,
      "outputs": [
        {
          "output_type": "stream",
          "name": "stdout",
          "text": [
            "120\n"
          ]
        }
      ]
    },
    {
      "cell_type": "code",
      "source": [],
      "metadata": {
        "id": "Ng1HvQrpQPuV"
      },
      "execution_count": null,
      "outputs": []
    }
  ]
}
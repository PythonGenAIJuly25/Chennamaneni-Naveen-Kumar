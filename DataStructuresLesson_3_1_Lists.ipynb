{
  "nbformat": 4,
  "nbformat_minor": 0,
  "metadata": {
    "colab": {
      "provenance": []
    },
    "kernelspec": {
      "name": "python3",
      "display_name": "Python 3"
    },
    "language_info": {
      "name": "python"
    }
  },
  "cells": [
    {
      "cell_type": "markdown",
      "source": [
        "Module 3: Data Structures Assignments\n",
        "Lesson 3.1: Lists\n",
        "Assignment 1: Creating and Accessing Lists\n",
        "Create a list of the first 20 positive integers. Print the list.\n",
        "\n",
        "Assignment 2: Accessing List Elements\n",
        "Print the first, middle, and last elements of the list created in Assignment 1.\n",
        "\n",
        "Assignment 3: List Slicing\n",
        "Print the first five elements, the last five elements, and the elements from index 5 to 15 of the list created in Assignment 1.\n",
        "\n",
        "Assignment 4: List Comprehensions\n",
        "Create a new list containing the squares of the first 10 positive integers using a list comprehension. Print the new list.\n",
        "\n",
        "Assignment 5: Filtering Lists\n",
        "Create a new list containing only the even numbers from the list created in Assignment 1 using a list comprehension. Print the new list.\n",
        "\n",
        "Assignment 6: List Methods\n",
        "Create a list of random numbers and sort it in ascending and descending order. Remove the duplicates from the list and print the modified list.\n",
        "\n",
        "Assignment 7: Nested Lists\n",
        "Create a nested list representing a 3x3 matrix and print the matrix. Access and print the element at the second row and third column.\n",
        "\n",
        "Assignment 8: List of Dictionaries\n",
        "Create a list of dictionaries where each dictionary represents a student with keys 'name' and 'score'. Sort the list of dictionaries by the 'score' in descending order and print the sorted list.\n",
        "\n",
        "Assignment 9: Matrix Transposition\n",
        "Write a function that takes a 3x3 matrix (nested list) as input and returns its transpose. Print the original and transposed matrices.\n",
        "\n",
        "Assignment 10: Flattening a Nested List\n",
        "Write a function that takes a nested list and flattens it into a single list. Print the original and flattened lists.\n",
        "\n",
        "Assignment 11: List Manipulation\n",
        "Create a list of the first 10 positive integers. Remove the elements at indices 2, 4, and 6, and insert the element '99' at index 5. Print the modified list.\n",
        "\n",
        "Assignment 12: List Zipping\n",
        "Create two lists of the same length. Use the zip function to combine these lists into a list of tuples and print the result.\n",
        "\n",
        "Assignment 13: List Reversal\n",
        "Write a function that takes a list and returns a new list with the elements in reverse order. Print the original and reversed lists.\n",
        "\n",
        "Assignment 14: List Rotation\n",
        "Write a function that rotates a list by n positions. Print the original and rotated lists.\n",
        "\n",
        "Assignment 15: List Intersection\n",
        "Write a function that takes two lists and returns a new list containing only the elements that are present in both lists. Print the intersected list."
      ],
      "metadata": {
        "id": "ilVAaAtwY3BI"
      }
    },
    {
      "cell_type": "markdown",
      "source": [
        "Assignment 1: Creating and Accessing Lists\n",
        "Create a list of the first 20 positive integers. Print the list."
      ],
      "metadata": {
        "id": "r_kwpuMaBn87"
      }
    },
    {
      "cell_type": "code",
      "source": [
        "number=list(range(1,21))\n",
        "print(number)"
      ],
      "metadata": {
        "id": "su716aXLY3lO",
        "colab": {
          "base_uri": "https://localhost:8080/"
        },
        "outputId": "a000c9d7-3426-44cf-c944-6d2f0f86a49c"
      },
      "execution_count": 1,
      "outputs": [
        {
          "output_type": "stream",
          "name": "stdout",
          "text": [
            "[1, 2, 3, 4, 5, 6, 7, 8, 9, 10, 11, 12, 13, 14, 15, 16, 17, 18, 19, 20]\n"
          ]
        }
      ]
    },
    {
      "cell_type": "markdown",
      "source": [
        "Assignment 2: Accessing List Elements\n",
        "Print the first, middle, and last elements of the list created in Assignment 1."
      ],
      "metadata": {
        "id": "30XGRw32BqHk"
      }
    },
    {
      "cell_type": "code",
      "source": [
        "print(number[0])\n",
        "print(number[len(number)//2])\n",
        "print(number[-1])"
      ],
      "metadata": {
        "colab": {
          "base_uri": "https://localhost:8080/"
        },
        "id": "wwIl7J4ZBroy",
        "outputId": "034c41de-5000-424f-f061-70bf1ff8f13f"
      },
      "execution_count": 3,
      "outputs": [
        {
          "output_type": "stream",
          "name": "stdout",
          "text": [
            "1\n",
            "11\n",
            "20\n"
          ]
        }
      ]
    },
    {
      "cell_type": "markdown",
      "source": [
        "Assignment 3: List Slicing\n",
        "Print the first five elements, the last five elements, and the elements from index 5 to 15 of the list created in Assignment 1."
      ],
      "metadata": {
        "id": "gIqJjcNGBs-e"
      }
    },
    {
      "cell_type": "code",
      "source": [
        "print(number[:5])\n",
        "print(number[-5:])\n",
        "print(number[5:16])"
      ],
      "metadata": {
        "colab": {
          "base_uri": "https://localhost:8080/"
        },
        "id": "fCpmAMVlBtWO",
        "outputId": "61e45108-e63b-4340-da94-9d4082d7d552"
      },
      "execution_count": 5,
      "outputs": [
        {
          "output_type": "stream",
          "name": "stdout",
          "text": [
            "[1, 2, 3, 4, 5]\n",
            "[16, 17, 18, 19, 20]\n",
            "[6, 7, 8, 9, 10, 11, 12, 13, 14, 15, 16]\n"
          ]
        }
      ]
    },
    {
      "cell_type": "markdown",
      "source": [
        "Assignment 4: List Comprehensions\n",
        "Create a new list containing the squares of the first 10 positive integers using a list comprehension. Print the new list."
      ],
      "metadata": {
        "id": "2aGZ3mC0Bt0n"
      }
    },
    {
      "cell_type": "code",
      "source": [
        "square=[x**2 for x in range(1,11)]\n",
        "print(square)"
      ],
      "metadata": {
        "colab": {
          "base_uri": "https://localhost:8080/"
        },
        "id": "nqGcgiwvBwRV",
        "outputId": "379acfc9-bfac-4985-8daa-0240393d6051"
      },
      "execution_count": 6,
      "outputs": [
        {
          "output_type": "stream",
          "name": "stdout",
          "text": [
            "[1, 4, 9, 16, 25, 36, 49, 64, 81, 100]\n"
          ]
        }
      ]
    },
    {
      "cell_type": "markdown",
      "source": [
        "Assignment 5: Filtering Lists\n",
        "Create a new list containing only the even numbers from the list created in Assignment 1 using a list comprehension. Print the new list."
      ],
      "metadata": {
        "id": "NRTYTlKpBwy1"
      }
    },
    {
      "cell_type": "code",
      "source": [
        "even_numbers = [x for x in number if x % 2 == 0]\n",
        "print(even_numbers)"
      ],
      "metadata": {
        "colab": {
          "base_uri": "https://localhost:8080/"
        },
        "id": "GfNcSSURByGk",
        "outputId": "e3e65e76-8c85-476c-d91a-b93fac5f24a6"
      },
      "execution_count": 9,
      "outputs": [
        {
          "output_type": "stream",
          "name": "stdout",
          "text": [
            "[2, 4, 6, 8, 10, 12, 14, 16, 18, 20]\n"
          ]
        }
      ]
    },
    {
      "cell_type": "markdown",
      "source": [
        "Assignment 6: List Methods\n",
        "Create a list of random numbers and sort it in ascending and descending order. Remove the duplicates from the list and print the modified list.\n",
        "\n"
      ],
      "metadata": {
        "id": "5j_3VR67BzfN"
      }
    },
    {
      "cell_type": "code",
      "source": [
        "random_numbers = [5, 3, 8, 3, 9, 1, 5, 2]\n",
        "unique_sorted = sorted(set(random_numbers))\n",
        "print(\"Ascending:\", unique_sorted)\n",
        "print( sorted(unique_sorted, reverse=True))"
      ],
      "metadata": {
        "colab": {
          "base_uri": "https://localhost:8080/"
        },
        "id": "ekXF2j73Bz7f",
        "outputId": "49aaae03-bd8f-45ce-9769-23b47d0714b4"
      },
      "execution_count": 10,
      "outputs": [
        {
          "output_type": "stream",
          "name": "stdout",
          "text": [
            "Ascending: [1, 2, 3, 5, 8, 9]\n",
            "[9, 8, 5, 3, 2, 1]\n"
          ]
        }
      ]
    },
    {
      "cell_type": "markdown",
      "source": [
        "Assignment 7: Nested Lists\n",
        "Create a nested list representing a 3x3 matrix and print the matrix. Access and print the element at the second row and third column."
      ],
      "metadata": {
        "id": "R0tqd3DAB2Cu"
      }
    },
    {
      "cell_type": "code",
      "source": [
        "matrix = [\n",
        "    [1, 2, 3],\n",
        "    [4, 5, 6],\n",
        "    [7, 8, 9]\n",
        "]\n",
        "print(\"Matrix:\")\n",
        "for row in matrix:\n",
        "    print(row)\n",
        "\n",
        "print(\"Element at 2nd row, 3rd column:\", matrix[1][2])"
      ],
      "metadata": {
        "colab": {
          "base_uri": "https://localhost:8080/"
        },
        "id": "_L6gmV_EB2hu",
        "outputId": "9d6e07d6-816a-4f7e-9361-41d4ae0eb189"
      },
      "execution_count": 11,
      "outputs": [
        {
          "output_type": "stream",
          "name": "stdout",
          "text": [
            "Matrix:\n",
            "[1, 2, 3]\n",
            "[4, 5, 6]\n",
            "[7, 8, 9]\n",
            "Element at 2nd row, 3rd column: 6\n"
          ]
        }
      ]
    },
    {
      "cell_type": "markdown",
      "source": [
        "Assignment 8: List of Dictionaries\n",
        "Create a list of dictionaries where each dictionary represents a student with keys 'name' and 'score'. Sort the list of dictionaries by the 'score' in descending order and print the sorted list."
      ],
      "metadata": {
        "id": "M1hnYxpXB39H"
      }
    },
    {
      "cell_type": "code",
      "source": [
        "students = [\n",
        "    {'name': 'Alice', 'score': 88},\n",
        "    {'name': 'Bob', 'score': 95},\n",
        "    {'name': 'Charlie', 'score': 78}\n",
        "]\n",
        "\n",
        "sorted_students = sorted(students, key=lambda x: x['score'], reverse=True)\n",
        "print(sorted_students)"
      ],
      "metadata": {
        "colab": {
          "base_uri": "https://localhost:8080/"
        },
        "id": "wkzYyFVeB4cs",
        "outputId": "438956e5-720b-41f3-9acb-773082861d5f"
      },
      "execution_count": 12,
      "outputs": [
        {
          "output_type": "stream",
          "name": "stdout",
          "text": [
            "[{'name': 'Bob', 'score': 95}, {'name': 'Alice', 'score': 88}, {'name': 'Charlie', 'score': 78}]\n"
          ]
        }
      ]
    },
    {
      "cell_type": "markdown",
      "source": [
        "Assignment 9: Matrix Transposition\n",
        "Write a function that takes a 3x3 matrix (nested list) as input and returns its transpose. Print the original and transposed matrices."
      ],
      "metadata": {
        "id": "0-FdLMWmB5HB"
      }
    },
    {
      "cell_type": "markdown",
      "source": [],
      "metadata": {
        "id": "IY52pzyfDm6g"
      }
    },
    {
      "cell_type": "code",
      "source": [
        "def transpose(matrix):\n",
        "    return [[matrix[j][i] for j in range(3)] for i in range(3)]\n",
        "\n",
        "original = [\n",
        "    [1, 2, 3],\n",
        "    [4, 5, 6],\n",
        "    [7, 8, 9]\n",
        "]\n",
        "transposed = transpose(original)\n",
        "\n",
        "print(\"Original:\")\n",
        "for row in original:\n",
        "    print(row)\n",
        "\n",
        "print(\"Transposed:\")\n",
        "for row in transposed:\n",
        "    print(row)"
      ],
      "metadata": {
        "colab": {
          "base_uri": "https://localhost:8080/"
        },
        "id": "KgFLLZ4uDnS_",
        "outputId": "5f5ae8e5-6c41-49c3-f1ef-2e1de1e578e1"
      },
      "execution_count": 13,
      "outputs": [
        {
          "output_type": "stream",
          "name": "stdout",
          "text": [
            "Original:\n",
            "[1, 2, 3]\n",
            "[4, 5, 6]\n",
            "[7, 8, 9]\n",
            "Transposed:\n",
            "[1, 4, 7]\n",
            "[2, 5, 8]\n",
            "[3, 6, 9]\n"
          ]
        }
      ]
    },
    {
      "cell_type": "code",
      "source": [],
      "metadata": {
        "id": "CZaxdfsLB65M"
      },
      "execution_count": null,
      "outputs": []
    },
    {
      "cell_type": "markdown",
      "source": [
        "Assignment 10: Flattening a Nested List\n",
        "Write a function that takes a nested list and flattens it into a single list. Print the original and flattened lists."
      ],
      "metadata": {
        "id": "YeC7PAQoB8pr"
      }
    },
    {
      "cell_type": "code",
      "source": [
        "def flatten(nested):\n",
        "    return [item for sublist in nested for item in sublist]\n",
        "\n",
        "nested_list = [[1, 2], [3, 4], [5, 6]]\n",
        "flat_list = flatten(nested_list)\n",
        "\n",
        "print(\"Original:\", nested_list)\n",
        "print(\"Flattened:\", flat_list)"
      ],
      "metadata": {
        "colab": {
          "base_uri": "https://localhost:8080/"
        },
        "id": "QbKGmNWSB9EU",
        "outputId": "20cfa465-01cd-47e6-c02b-8a7bbea82cf6"
      },
      "execution_count": 14,
      "outputs": [
        {
          "output_type": "stream",
          "name": "stdout",
          "text": [
            "Original: [[1, 2], [3, 4], [5, 6]]\n",
            "Flattened: [1, 2, 3, 4, 5, 6]\n"
          ]
        }
      ]
    },
    {
      "cell_type": "markdown",
      "source": [
        "Assignment 11: List Manipulation\n",
        "Create a list of the first 10 positive integers. Remove the elements at indices 2, 4, and 6, and insert the element '99' at index 5. Print the modified list."
      ],
      "metadata": {
        "id": "dA0A-iApB-Xq"
      }
    },
    {
      "cell_type": "code",
      "source": [
        "lst = list(range(1, 11))\n",
        "for index in sorted([2, 4, 6], reverse=True):\n",
        "    lst.pop(index)\n",
        "lst.insert(5, 99)\n",
        "print(\"Modified list:\", lst)"
      ],
      "metadata": {
        "colab": {
          "base_uri": "https://localhost:8080/"
        },
        "id": "G46jhm6XB-yI",
        "outputId": "4e12ca57-17d7-4bb1-988b-a6d2f5d70b77"
      },
      "execution_count": 15,
      "outputs": [
        {
          "output_type": "stream",
          "name": "stdout",
          "text": [
            "Modified list: [1, 2, 4, 6, 8, 99, 9, 10]\n"
          ]
        }
      ]
    },
    {
      "cell_type": "markdown",
      "source": [
        "Assignment 12: List Zipping\n",
        "Create two lists of the same length. Use the zip function to combine these lists into a list of tuples and print the result."
      ],
      "metadata": {
        "id": "4lGGjRddCAXB"
      }
    },
    {
      "cell_type": "code",
      "source": [
        "list1 = [1, 2, 3]\n",
        "list2 = ['a', 'b', 'c']\n",
        "zipped = list(zip(list1, list2))\n",
        "print(zipped)"
      ],
      "metadata": {
        "colab": {
          "base_uri": "https://localhost:8080/"
        },
        "id": "t11U2B_2CAwt",
        "outputId": "7be84937-9087-45b1-b058-04a49b050e82"
      },
      "execution_count": 16,
      "outputs": [
        {
          "output_type": "stream",
          "name": "stdout",
          "text": [
            "[(1, 'a'), (2, 'b'), (3, 'c')]\n"
          ]
        }
      ]
    },
    {
      "cell_type": "markdown",
      "source": [
        "Assignment 13: List Reversal\n",
        "Write a function that takes a list and returns a new list with the elements in reverse order. Print the original and reversed lists."
      ],
      "metadata": {
        "id": "8XfzkjXXCCjK"
      }
    },
    {
      "cell_type": "code",
      "source": [
        "def reverse_list(lst):\n",
        "    return lst[::-1]\n",
        "\n",
        "original = [1, 2, 3, 4, 5]\n",
        "reversed_list = reverse_list(original)\n",
        "\n",
        "print(original)\n",
        "print( reversed_list)"
      ],
      "metadata": {
        "colab": {
          "base_uri": "https://localhost:8080/"
        },
        "id": "cByy32PECC7g",
        "outputId": "7ebf43a1-baec-4dc9-a719-e4b8633279b2"
      },
      "execution_count": 17,
      "outputs": [
        {
          "output_type": "stream",
          "name": "stdout",
          "text": [
            "[1, 2, 3, 4, 5]\n",
            "[5, 4, 3, 2, 1]\n"
          ]
        }
      ]
    },
    {
      "cell_type": "markdown",
      "source": [
        "Assignment 14: List Rotation\n",
        "Write a function that rotates a list by n positions. Print the original and rotated lists."
      ],
      "metadata": {
        "id": "ue2B26cECELc"
      }
    },
    {
      "cell_type": "code",
      "source": [
        "def rotate_list(lst, n):\n",
        "    n %= len(lst)\n",
        "    return lst[n:] + lst[:n]\n",
        "\n",
        "original = [1, 2, 3, 4, 5]\n",
        "rotated = rotate_list(original, 2)\n",
        "\n",
        "print(\"Original:\", original)\n",
        "print(\"Rotated:\", rotated)"
      ],
      "metadata": {
        "colab": {
          "base_uri": "https://localhost:8080/"
        },
        "id": "ucfVmW9sCEkK",
        "outputId": "2a5aa834-320f-401c-8625-4624fc8bc8a5"
      },
      "execution_count": 18,
      "outputs": [
        {
          "output_type": "stream",
          "name": "stdout",
          "text": [
            "Original: [1, 2, 3, 4, 5]\n",
            "Rotated: [3, 4, 5, 1, 2]\n"
          ]
        }
      ]
    },
    {
      "cell_type": "markdown",
      "source": [
        "Assignment 15: List Intersection\n",
        "Write a function that takes two lists and returns a new list containing only the elements that are present in both lists. Print the intersected list."
      ],
      "metadata": {
        "id": "BWqBn_OOCGAL"
      }
    },
    {
      "cell_type": "code",
      "source": [
        "def list_intersection(list1, list2):\n",
        "    return [x for x in list1 if x in list2]\n",
        "list1 = [1, 2, 3, 4]\n",
        "list2 = [3, 4, 5, 6]\n",
        "intersection = list_intersection(list1, list2)\n",
        "print(\"Intersection:\", intersection)"
      ],
      "metadata": {
        "colab": {
          "base_uri": "https://localhost:8080/"
        },
        "id": "JCKvU5wjCGZX",
        "outputId": "d20362d5-6ebf-4ec3-b39c-71915deea221"
      },
      "execution_count": 19,
      "outputs": [
        {
          "output_type": "stream",
          "name": "stdout",
          "text": [
            "Intersection: [3, 4]\n"
          ]
        }
      ]
    },
    {
      "cell_type": "code",
      "source": [],
      "metadata": {
        "id": "Fo9t9LQuEDWX"
      },
      "execution_count": null,
      "outputs": []
    }
  ]
}
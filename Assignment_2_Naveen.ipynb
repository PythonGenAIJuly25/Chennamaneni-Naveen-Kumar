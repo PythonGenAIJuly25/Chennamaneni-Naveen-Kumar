{
  "nbformat": 4,
  "nbformat_minor": 0,
  "metadata": {
    "colab": {
      "provenance": []
    },
    "kernelspec": {
      "name": "python3",
      "display_name": "Python 3"
    },
    "language_info": {
      "name": "python"
    }
  },
  "cells": [
    {
      "cell_type": "markdown",
      "source": [
        "Module 2: Control Flow Assignments\n",
        "Lesson 2.1: Conditional Statements\n",
        "Assignment 1: Simple if Statement\n",
        "Write a program that asks the user to input a number and prints whether the number is positive.\n",
        "\n",
        "Assignment 2: if-else Statement\n",
        "Write a program that asks the user to input a number and prints whether the number is positive or negative.\n",
        "\n",
        "Assignment 3: if-elif-else Statement\n",
        "Write a program that asks the user to input a number and prints whether the number is positive, negative, or zero.\n",
        "\n",
        "Assignment 4: Nested if Statement\n",
        "Write a program that asks the user to input a number and prints whether the number is positive and even, positive and odd, or negative.\n",
        "\n",
        "Lesson 2.2: Loops\n",
        "Assignment 5: for Loop\n",
        "Write a program that prints all the numbers from 1 to 10 using a for loop.\n",
        "\n",
        "Assignment 6: while Loop\n",
        "Write a program that prints all the numbers from 1 to 10 using a while loop.\n",
        "\n",
        "Assignment 7: Nested Loops\n",
        "Write a program that prints a 5x5 grid of asterisks (*) using nested loops.\n",
        "\n",
        "Assignment 8: break Statement\n",
        "Write a program that asks the user to input numbers until they input 0. The program should print the sum of all the input numbers.\n",
        "\n",
        "Assignment 9: continue Statement\n",
        "Write a program that prints all the numbers from 1 to 10 except 5 using a for loop and continue statement.\n",
        "\n",
        "Assignment 10: pass Statement\n",
        "Write a program that defines an empty function using the pass statement.\n",
        "\n",
        "Assignment 11: Combining Loops and Conditionals\n",
        "Write a program that asks the user to input a number and prints all the even numbers from 1 to that number using a for loop.\n",
        "\n",
        "Assignment 12: Factorial Calculation\n",
        "Write a program that calculates the factorial of a number input by the user using a while loop.\n",
        "\n",
        "Assignment 13: Sum of Digits\n",
        "Write a program that calculates the sum of the digits of a number input by the user using a while loop.\n",
        "\n",
        "Assignment 14: Prime Number Check\n",
        "Write a program that checks if a number input by the user is a prime number using a for loop.\n",
        "\n",
        "Assignment 15: Fibonacci Sequence\n",
        "Write a program that prints the first n Fibonacci numbers, where n is input by the user."
      ],
      "metadata": {
        "id": "wExFuw7TYA6m"
      }
    },
    {
      "cell_type": "markdown",
      "source": [
        "Conditional Statements Assignment 1: Simple if Statement Write a program that asks the user to input a number and prints whether the number is positive."
      ],
      "metadata": {
        "id": "bRM5zDABYscZ"
      }
    },
    {
      "cell_type": "code",
      "source": [
        "num=int(input(\"Enter a number:\"))\n",
        "\n",
        "if num>=0:\n",
        "  print(\"Number is postivie:\")\n",
        "else:\n",
        "    print(\"Number is not postive\")"
      ],
      "metadata": {
        "id": "yYgxtl4XYtZF"
      },
      "execution_count": null,
      "outputs": []
    },
    {
      "cell_type": "code",
      "source": [],
      "metadata": {
        "id": "IQbmK49OZjhq"
      },
      "execution_count": null,
      "outputs": []
    },
    {
      "cell_type": "markdown",
      "source": [
        "Assignment 2: if-else Statement Write a program that asks the user to input a number and prints whether the number is positive or negative."
      ],
      "metadata": {
        "id": "eZrur0NfaQSq"
      }
    },
    {
      "cell_type": "code",
      "source": [
        "num=int(input(\"Enter a number:\"))\n",
        "\n",
        "if num>0:\n",
        "  print(\"Number is postivie:\")\n",
        "elif num<0:\n",
        "  print(\"Number is negative\")"
      ],
      "metadata": {
        "colab": {
          "base_uri": "https://localhost:8080/"
        },
        "id": "TfW1NRCjaQ05",
        "outputId": "bfaa5893-01e3-4b7f-e7cf-92ceb5bd0ad8"
      },
      "execution_count": null,
      "outputs": [
        {
          "output_type": "stream",
          "name": "stdout",
          "text": [
            "Enter a number:10\n",
            "Number is postivie:\n"
          ]
        }
      ]
    },
    {
      "cell_type": "markdown",
      "source": [
        "Assignment 3: if-elif-else Statement Write a program that asks the user to input a number and prints whether the number is positive, negative, or zero."
      ],
      "metadata": {
        "id": "KKEp-KSNamos"
      }
    },
    {
      "cell_type": "code",
      "source": [
        "num=int(input(\"Enter a number:\"))\n",
        "\n",
        "if num>0:\n",
        "  print(\"Number is postivie:\")\n",
        "elif num<0:\n",
        "  print(\"Number is negative\")\n",
        "else:\n",
        "    print(\"Number is zero\")"
      ],
      "metadata": {
        "colab": {
          "base_uri": "https://localhost:8080/"
        },
        "id": "7DwMIwRfanLA",
        "outputId": "74f9ecc8-a67f-4909-c78b-0e9cf776b23c"
      },
      "execution_count": null,
      "outputs": [
        {
          "output_type": "stream",
          "name": "stdout",
          "text": [
            "Enter a number:0\n",
            "Number is zero\n"
          ]
        }
      ]
    },
    {
      "cell_type": "markdown",
      "source": [
        "Assignment 4: Nested if Statement Write a program that asks the user to input a number and prints whether the number is positive and even, positive and odd, or negative."
      ],
      "metadata": {
        "id": "89VIsqvkbY_3"
      }
    },
    {
      "cell_type": "code",
      "source": [
        "num=int(input(\"Enter a number:\"))\n",
        "\n",
        "if num>0:\n",
        "  if num%2==0:\n",
        "    print(\"Number is postive and even\")\n",
        "  else:\n",
        "    print(\"Number is Odd and postive: \")\n",
        "elif num<0:\n",
        "  if num%2==0:\n",
        "    print(\"Number is negative and even: \")\n",
        "  else:\n",
        "    print(\"Negative and odd:\")\n",
        "else:\n",
        "      print(\"Number is zero\")"
      ],
      "metadata": {
        "colab": {
          "base_uri": "https://localhost:8080/"
        },
        "id": "Vs7JwW_FbZai",
        "outputId": "85333f32-2f9d-48da-a79d-62a94ae2f97b"
      },
      "execution_count": null,
      "outputs": [
        {
          "output_type": "stream",
          "name": "stdout",
          "text": [
            "Enter a number:-7\n",
            "Negative and odd:\n"
          ]
        }
      ]
    },
    {
      "cell_type": "markdown",
      "source": [
        "Lesson 2.2: Loops Assignment 5: for Loop Write a program that prints all the numbers from 1 to 10 using a for loop."
      ],
      "metadata": {
        "id": "t33eI68_dsCt"
      }
    },
    {
      "cell_type": "code",
      "source": [
        "for i in range(10):\n",
        "  print(i)"
      ],
      "metadata": {
        "colab": {
          "base_uri": "https://localhost:8080/"
        },
        "id": "j7Y_Yu_JdsiO",
        "outputId": "587dca93-f9bc-443d-9875-fba9b07fa9f4"
      },
      "execution_count": null,
      "outputs": [
        {
          "output_type": "stream",
          "name": "stdout",
          "text": [
            "0\n",
            "1\n",
            "2\n",
            "3\n",
            "4\n",
            "5\n",
            "6\n",
            "7\n",
            "8\n",
            "9\n"
          ]
        }
      ]
    },
    {
      "cell_type": "markdown",
      "source": [
        "Assignment 6: while Loop Write a program that prints all the numbers from 1 to 10 using a while loop"
      ],
      "metadata": {
        "id": "Uxa1qQuCeAea"
      }
    },
    {
      "cell_type": "code",
      "source": [
        "i=1\n",
        "while i<=10:\n",
        "  print(i)\n",
        "  i+=1"
      ],
      "metadata": {
        "colab": {
          "base_uri": "https://localhost:8080/"
        },
        "id": "mqzPVxNqdzWv",
        "outputId": "7067c8c6-a3dc-4e7d-f57b-9fb1ea09c532"
      },
      "execution_count": null,
      "outputs": [
        {
          "output_type": "stream",
          "name": "stdout",
          "text": [
            "1\n",
            "2\n",
            "3\n",
            "4\n",
            "5\n",
            "6\n",
            "7\n",
            "8\n",
            "9\n",
            "10\n"
          ]
        }
      ]
    },
    {
      "cell_type": "markdown",
      "source": [
        "Assignment 7: Nested Loops Write a program that prints a 5x5 grid of asterisks (*) using nested loops."
      ],
      "metadata": {
        "id": "IgOBvVFoeUL_"
      }
    },
    {
      "cell_type": "code",
      "source": [
        "for i in range(5):\n",
        "  for j in range(5):\n",
        "    print(\"*\",end=\"\")\n",
        "  print()"
      ],
      "metadata": {
        "colab": {
          "base_uri": "https://localhost:8080/"
        },
        "id": "RKNMAm5leL58",
        "outputId": "a973cc19-5979-469c-8c66-6cb61da836d8"
      },
      "execution_count": null,
      "outputs": [
        {
          "output_type": "stream",
          "name": "stdout",
          "text": [
            "*****\n",
            "*****\n",
            "*****\n",
            "*****\n",
            "*****\n"
          ]
        }
      ]
    },
    {
      "cell_type": "markdown",
      "source": [
        "Assignment 8: break Statement Write a program that asks the user to input numbers until they input 0. The program should print the sum of all the input numbers."
      ],
      "metadata": {
        "id": "SMBfB3yreo3Q"
      }
    },
    {
      "cell_type": "code",
      "source": [
        "total =0\n",
        "\n",
        "while True:\n",
        "  num=int(input(\"Enter a number(0 to stop):\"))\n",
        "  if num==0:\n",
        "    break\n",
        "  total +=num\n",
        "print(total)"
      ],
      "metadata": {
        "colab": {
          "base_uri": "https://localhost:8080/"
        },
        "id": "pyYaXeCTeisK",
        "outputId": "d43e8319-c847-4fd1-e6af-319317675c78"
      },
      "execution_count": null,
      "outputs": [
        {
          "output_type": "stream",
          "name": "stdout",
          "text": [
            "Enter a number(0 to stop):14\n",
            "Enter a number(0 to stop):5\n",
            "Enter a number(0 to stop):0\n",
            "19\n"
          ]
        }
      ]
    },
    {
      "cell_type": "markdown",
      "source": [
        "Assignment 9: continue Statement Write a program that prints all the numbers from 1 to 10 except 5 using a for loop and continue statement."
      ],
      "metadata": {
        "id": "YcgAwBpwfqJL"
      }
    },
    {
      "cell_type": "code",
      "source": [
        "for i in range(1, 11):\n",
        "    if i == 5:\n",
        "        continue\n",
        "    print(i)"
      ],
      "metadata": {
        "id": "f9jiFn_9fEID"
      },
      "execution_count": null,
      "outputs": []
    },
    {
      "cell_type": "markdown",
      "source": [
        "Assignment 10: pass Statement Write a program that defines an empty function using the pass statement."
      ],
      "metadata": {
        "id": "msJ7xBLt-07E"
      }
    },
    {
      "cell_type": "code",
      "source": [
        "def my_function():\n",
        "    pass\n",
        "\n",
        "print(\"successfull.\")"
      ],
      "metadata": {
        "colab": {
          "base_uri": "https://localhost:8080/"
        },
        "id": "DUL6y4kj-6QG",
        "outputId": "ad157a8e-3479-4375-b9e7-0d35baaab16e"
      },
      "execution_count": 1,
      "outputs": [
        {
          "output_type": "stream",
          "name": "stdout",
          "text": [
            "successfull.\n"
          ]
        }
      ]
    },
    {
      "cell_type": "markdown",
      "source": [
        "Assignment 11: Combining Loops and Conditionals Write a program that asks the user to input a number and prints all the even numbers from 1 to that number using a for loop."
      ],
      "metadata": {
        "id": "z87jkETG_NVk"
      }
    },
    {
      "cell_type": "code",
      "source": [
        "num = int(input(\"Enter a number: \"))\n",
        "\n",
        "for i in range(1, num + 1):\n",
        "    if i % 2 == 0:\n",
        "        print(i)"
      ],
      "metadata": {
        "colab": {
          "base_uri": "https://localhost:8080/"
        },
        "id": "UJ6ugPkg--0Q",
        "outputId": "d98b7520-e593-4209-f48e-0baa4fe6dbc5"
      },
      "execution_count": 2,
      "outputs": [
        {
          "output_type": "stream",
          "name": "stdout",
          "text": [
            "Enter a number: 10\n",
            "2\n",
            "4\n",
            "6\n",
            "8\n",
            "10\n"
          ]
        }
      ]
    },
    {
      "cell_type": "markdown",
      "source": [
        "Assignment 12: Factorial Calculation Write a program that calculates the factorial of a number input by the user using a while loop.\n",
        "\n"
      ],
      "metadata": {
        "id": "UXnfMkUT_PmS"
      }
    },
    {
      "cell_type": "code",
      "source": [
        "num = int(input(\"Enter a number: \"))\n",
        "factorial = 1\n",
        "i = 1\n",
        "\n",
        "while i <= num:\n",
        "    factorial *= i\n",
        "    i += 1\n",
        "\n",
        "print(\"Factorial of\", num, \"is\", factorial)"
      ],
      "metadata": {
        "colab": {
          "base_uri": "https://localhost:8080/"
        },
        "id": "JWeGb8gs_l3z",
        "outputId": "611b6235-c5e9-4fcd-a0bc-19c5184f9265"
      },
      "execution_count": 3,
      "outputs": [
        {
          "output_type": "stream",
          "name": "stdout",
          "text": [
            "Enter a number: 5\n",
            "Factorial of 5 is 120\n"
          ]
        }
      ]
    },
    {
      "cell_type": "markdown",
      "source": [
        "Assignment 13: Sum of Digits Write a program that calculates the sum of the digits of a number input by the user using a while loop."
      ],
      "metadata": {
        "id": "_VipKVDn_9PD"
      }
    },
    {
      "cell_type": "code",
      "source": [
        "num = int(input(\"Enter a number: \"))\n",
        "sum_digits = 0\n",
        "\n",
        "while num > 0:\n",
        "    sum_digits += num % 10\n",
        "    num //= 10\n",
        "print( sum_digits)"
      ],
      "metadata": {
        "colab": {
          "base_uri": "https://localhost:8080/"
        },
        "id": "PEV7Czl6_oqK",
        "outputId": "75e42967-0190-4319-f9cf-c28e6217c17c"
      },
      "execution_count": 4,
      "outputs": [
        {
          "output_type": "stream",
          "name": "stdout",
          "text": [
            "Enter a number: 10\n",
            "1\n"
          ]
        }
      ]
    },
    {
      "cell_type": "markdown",
      "source": [
        "Assignment 14: Prime Number Check Write a program that checks if a number input by the user is a prime number using a for loop."
      ],
      "metadata": {
        "id": "Kbzvg04wAQNB"
      }
    },
    {
      "cell_type": "code",
      "source": [],
      "metadata": {
        "id": "45gpy2MDAP_A"
      },
      "execution_count": null,
      "outputs": []
    },
    {
      "cell_type": "code",
      "source": [
        "num = int(input(\"Enter a number: \"))\n",
        "\n",
        "if num < 2:\n",
        "    print(\"Not a prime number\")\n",
        "else:\n",
        "    for i in range(2, num):\n",
        "        if num % i == 0:\n",
        "            print(\"Not a prime number\")\n",
        "            break\n",
        "    else:\n",
        "        print(\"Prime number\")"
      ],
      "metadata": {
        "colab": {
          "base_uri": "https://localhost:8080/"
        },
        "id": "ggpgLMIN_0uo",
        "outputId": "4dcbbb87-1a05-40ac-bc7d-6b955180cd88"
      },
      "execution_count": 5,
      "outputs": [
        {
          "output_type": "stream",
          "name": "stdout",
          "text": [
            "Enter a number: 9\n",
            "Not a prime number\n"
          ]
        }
      ]
    },
    {
      "cell_type": "markdown",
      "source": [
        "Assignment 15: Fibonacci Sequence Write a program that prints the first n Fibonacci numbers, where n is input by the user."
      ],
      "metadata": {
        "id": "RYI4MkB1AZEq"
      }
    },
    {
      "cell_type": "code",
      "source": [
        "n = int(input(\"Enter how many Fibonacci numbers to print: \"))\n",
        "a, b = 0, 1\n",
        "count = 0\n",
        "\n",
        "while count < n:\n",
        "    print(a, end=' ')\n",
        "    a, b = b, a + b\n",
        "    count += 1"
      ],
      "metadata": {
        "colab": {
          "base_uri": "https://localhost:8080/"
        },
        "id": "NvmRW6jTAJXM",
        "outputId": "6f4782bd-6ea0-4159-d927-6c05cfdcc141"
      },
      "execution_count": 7,
      "outputs": [
        {
          "output_type": "stream",
          "name": "stdout",
          "text": [
            "Enter how many Fibonacci numbers to print: 9\n",
            "0 1 1 2 3 5 8 13 21 "
          ]
        }
      ]
    },
    {
      "cell_type": "code",
      "source": [],
      "metadata": {
        "id": "_IK6-pYpAcPb"
      },
      "execution_count": null,
      "outputs": []
    }
  ]
}
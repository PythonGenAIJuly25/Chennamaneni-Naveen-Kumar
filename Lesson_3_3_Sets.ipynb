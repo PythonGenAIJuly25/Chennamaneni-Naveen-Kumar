{
  "nbformat": 4,
  "nbformat_minor": 0,
  "metadata": {
    "colab": {
      "provenance": []
    },
    "kernelspec": {
      "name": "python3",
      "display_name": "Python 3"
    },
    "language_info": {
      "name": "python"
    }
  },
  "cells": [
    {
      "cell_type": "markdown",
      "source": [
        "Assignment 1: Creating and Accessing Sets\n",
        "Create a set with the first 10 positive integers. Print the set."
      ],
      "metadata": {
        "id": "-W-ewm8hSmJ5"
      }
    },
    {
      "cell_type": "code",
      "source": [
        "numbers = set(range(1, 11))\n",
        "print(numbers)\n"
      ],
      "metadata": {
        "colab": {
          "base_uri": "https://localhost:8080/"
        },
        "id": "f674yiK0SiNs",
        "outputId": "2c10d1e6-9918-4c36-f54f-1f6450c4e81f"
      },
      "execution_count": 1,
      "outputs": [
        {
          "output_type": "stream",
          "name": "stdout",
          "text": [
            "{1, 2, 3, 4, 5, 6, 7, 8, 9, 10}\n"
          ]
        }
      ]
    },
    {
      "cell_type": "markdown",
      "source": [
        "Assignment 2: Adding and Removing Elements\n",
        "Add the number 11 to the set created in Assignment 1. Then remove the number 1 from the set. Print the modified set."
      ],
      "metadata": {
        "id": "rmqJoyztSoTS"
      }
    },
    {
      "cell_type": "code",
      "source": [
        "numbers.add(11)\n",
        "numbers.remove(1)\n",
        "print(numbers)"
      ],
      "metadata": {
        "colab": {
          "base_uri": "https://localhost:8080/"
        },
        "id": "cH8ZYr5LSp5D",
        "outputId": "2565373f-9214-4e05-e8d8-e1d935ce2097"
      },
      "execution_count": 3,
      "outputs": [
        {
          "output_type": "stream",
          "name": "stdout",
          "text": [
            "{2, 3, 4, 5, 6, 7, 8, 9, 10, 11}\n"
          ]
        }
      ]
    },
    {
      "cell_type": "markdown",
      "source": [
        "Assignment 3: Set Operations\n",
        "Create two sets: one with the first 5 positive integers and another with the first 5 even integers. Perform and print the results of union, intersection, difference, and symmetric difference operations on these sets."
      ],
      "metadata": {
        "id": "RAFbNpwPTZ2Y"
      }
    },
    {
      "cell_type": "code",
      "source": [
        "set1 = set(range(1, 6))\n",
        "set2 = {2, 4, 6, 8, 10}\n",
        "\n",
        "print(\"Union:\", set1 | set2)\n",
        "print(\"Intersection:\", set1 & set2)\n",
        "print(\"Difference:\", set1 - set2)\n",
        "print(\"Symmetric Difference:\", set1 ^ set2)"
      ],
      "metadata": {
        "colab": {
          "base_uri": "https://localhost:8080/"
        },
        "id": "4KCO3tJRTaRl",
        "outputId": "3ac07936-457c-4d8f-b7cb-ff1d980a9a5c"
      },
      "execution_count": 4,
      "outputs": [
        {
          "output_type": "stream",
          "name": "stdout",
          "text": [
            "Union: {1, 2, 3, 4, 5, 6, 8, 10}\n",
            "Intersection: {2, 4}\n",
            "Difference: {1, 3, 5}\n",
            "Symmetric Difference: {1, 3, 5, 6, 8, 10}\n"
          ]
        }
      ]
    },
    {
      "cell_type": "markdown",
      "source": [
        "Assignment 4: Set Comprehensions\n",
        "Create a new set containing the squares of the first 10 positive integers using a set comprehension. Print the new set."
      ],
      "metadata": {
        "id": "XihUURmKTbqB"
      }
    },
    {
      "cell_type": "code",
      "source": [
        "squares = {x**2 for x in range(1, 11)}\n",
        "print(squares)\n"
      ],
      "metadata": {
        "colab": {
          "base_uri": "https://localhost:8080/"
        },
        "id": "oMWuMTfFTb9l",
        "outputId": "119dadf4-708f-4781-a0a8-9e6626e7e8c5"
      },
      "execution_count": 5,
      "outputs": [
        {
          "output_type": "stream",
          "name": "stdout",
          "text": [
            "{64, 1, 4, 36, 100, 9, 16, 49, 81, 25}\n"
          ]
        }
      ]
    },
    {
      "cell_type": "markdown",
      "source": [
        "Assignment 4: Set Comprehensions\n",
        "Create a new set containing the squares of the first 10 positive integers using a set comprehension. Print the new set"
      ],
      "metadata": {
        "id": "pDYgsW-eTj6I"
      }
    },
    {
      "cell_type": "code",
      "source": [
        "squares = {x**2 for x in range(1, 11)}\n",
        "print(squares)\n"
      ],
      "metadata": {
        "colab": {
          "base_uri": "https://localhost:8080/"
        },
        "id": "avQirW1dThKF",
        "outputId": "e84f99f7-012b-4aa8-b163-839d3ba20b3e"
      },
      "execution_count": 14,
      "outputs": [
        {
          "output_type": "stream",
          "name": "stdout",
          "text": [
            "{64, 1, 4, 36, 100, 9, 16, 49, 81, 25}\n"
          ]
        }
      ]
    },
    {
      "cell_type": "markdown",
      "source": [
        "Assignment 5: Filtering Sets\n",
        "Create a new set containing only the even numbers from the set created in Assignment 1 using a set comprehension. Print the new set."
      ],
      "metadata": {
        "id": "YCDEXcaKTlux"
      }
    },
    {
      "cell_type": "code",
      "source": [
        "even_numbers = {x for x in numbers if x % 2 == 0}\n",
        "print(even_numbers)\n"
      ],
      "metadata": {
        "colab": {
          "base_uri": "https://localhost:8080/"
        },
        "id": "E-WaNyuCTmDU",
        "outputId": "662c01d8-6be3-4270-a005-e632e1fab511"
      },
      "execution_count": 13,
      "outputs": [
        {
          "output_type": "stream",
          "name": "stdout",
          "text": [
            "{2, 4, 6, 8, 10}\n"
          ]
        }
      ]
    },
    {
      "cell_type": "markdown",
      "source": [
        "Assignment 6: Set Methods\n",
        "Create a set with duplicate elements and remove the duplicates using set methods. Print the modified set."
      ],
      "metadata": {
        "id": "KtGk0EZHTn58"
      }
    },
    {
      "cell_type": "code",
      "source": [
        "data = [1, 2, 2, 3, 4, 4, 5]\n",
        "unique = set(data)\n",
        "print(unique)\n"
      ],
      "metadata": {
        "colab": {
          "base_uri": "https://localhost:8080/"
        },
        "id": "sMxp0mwsTozE",
        "outputId": "4f3b6bec-774a-4b2e-ee7d-9b6bcb34f266"
      },
      "execution_count": 12,
      "outputs": [
        {
          "output_type": "stream",
          "name": "stdout",
          "text": [
            "{1, 2, 3, 4, 5}\n"
          ]
        }
      ]
    },
    {
      "cell_type": "markdown",
      "source": [
        "Assignment 7: Subsets and Supersets\n",
        "Create two sets: one with the first 5 positive integers and another with the first 3 positive integers. Check if the second set is a subset of the first set and if the first set is a superset of the second set. Print the results."
      ],
      "metadata": {
        "id": "hn5mj_GtTp4B"
      }
    },
    {
      "cell_type": "code",
      "source": [
        "setA = {1, 2, 3, 4, 5}\n",
        "setB = {1, 2, 3}\n",
        "\n",
        "print(\"Is B subset of A?\", setB.issubset(setA))\n",
        "print(\"Is A superset of B?\", setA.issuperset(setB))\n"
      ],
      "metadata": {
        "colab": {
          "base_uri": "https://localhost:8080/"
        },
        "id": "nmKcGtYVTqIk",
        "outputId": "5e288da0-a75f-47b7-b713-134a747c3d61"
      },
      "execution_count": 10,
      "outputs": [
        {
          "output_type": "stream",
          "name": "stdout",
          "text": [
            "Is B subset of A? True\n",
            "Is A superset of B? True\n"
          ]
        }
      ]
    },
    {
      "cell_type": "markdown",
      "source": [
        "Assignment 8: Frozenset\n",
        "Create a frozenset with the first 5 positive integers. Print the frozenset."
      ],
      "metadata": {
        "id": "aSnzwKPcTrr8"
      }
    },
    {
      "cell_type": "code",
      "source": [
        "fs = frozenset(range(1, 6))\n",
        "print(fs)\n"
      ],
      "metadata": {
        "colab": {
          "base_uri": "https://localhost:8080/"
        },
        "id": "QI2DFbBmTsTb",
        "outputId": "53682d10-71f3-489e-ee47-71e85add8555"
      },
      "execution_count": 9,
      "outputs": [
        {
          "output_type": "stream",
          "name": "stdout",
          "text": [
            "frozenset({1, 2, 3, 4, 5})\n"
          ]
        }
      ]
    },
    {
      "cell_type": "markdown",
      "source": [
        "Assignment 9: Set and List Conversion\n",
        "Create a set with the first 5 positive integers. Convert it to a list, append the number 6, and convert it back to a set. Print the resulting set."
      ],
      "metadata": {
        "id": "0YcifvuWTtTO"
      }
    },
    {
      "cell_type": "code",
      "source": [
        "s = set(range(1, 6))\n",
        "lst = list(s)\n",
        "lst.append(6)\n",
        "s = set(lst)\n",
        "print(s)\n"
      ],
      "metadata": {
        "colab": {
          "base_uri": "https://localhost:8080/"
        },
        "id": "QO7jyLLPTtop",
        "outputId": "8e407b48-6dab-4b2d-c8fc-9efc8a719ad7"
      },
      "execution_count": 15,
      "outputs": [
        {
          "output_type": "stream",
          "name": "stdout",
          "text": [
            "{1, 2, 3, 4, 5, 6}\n"
          ]
        }
      ]
    },
    {
      "cell_type": "markdown",
      "source": [
        "Assignment 10: Set and Dictionary\n",
        "Create a dictionary with set keys and integer values. Print the dictionary."
      ],
      "metadata": {
        "id": "XOv1dhm3TurL"
      }
    },
    {
      "cell_type": "code",
      "source": [
        "my_dict = {\n",
        "    frozenset({1, 2}): 10,\n",
        "    frozenset({3, 4}): 20\n",
        "}\n",
        "print(my_dict)\n"
      ],
      "metadata": {
        "colab": {
          "base_uri": "https://localhost:8080/"
        },
        "id": "e5EV2v90Tu91",
        "outputId": "16023ee3-6989-4966-82f7-8f85b6b1dbd1"
      },
      "execution_count": 16,
      "outputs": [
        {
          "output_type": "stream",
          "name": "stdout",
          "text": [
            "{frozenset({1, 2}): 10, frozenset({3, 4}): 20}\n"
          ]
        }
      ]
    },
    {
      "cell_type": "markdown",
      "source": [
        "Assignment 11: Iterating Over Sets\n",
        "Create a set and iterate over the elements, printing each element."
      ],
      "metadata": {
        "id": "Pr0a71SDTwCd"
      }
    },
    {
      "cell_type": "code",
      "source": [
        "s = {1, 2, 3, 4, 5}\n",
        "for item in s:\n",
        "    print(item)\n"
      ],
      "metadata": {
        "colab": {
          "base_uri": "https://localhost:8080/"
        },
        "id": "sBhD0_N0TwYN",
        "outputId": "1850c63c-8b0e-4e83-82d2-914775ca676d"
      },
      "execution_count": 17,
      "outputs": [
        {
          "output_type": "stream",
          "name": "stdout",
          "text": [
            "1\n",
            "2\n",
            "3\n",
            "4\n",
            "5\n"
          ]
        }
      ]
    },
    {
      "cell_type": "markdown",
      "source": [
        "Assignment 12: Removing Elements from Sets\n",
        "Create a set and remove elements from it until it is empty. Print the set after each removal."
      ],
      "metadata": {
        "id": "-tMXUV0OTxz4"
      }
    },
    {
      "cell_type": "code",
      "source": [
        "s = {1, 2, 3, 4, 5}\n",
        "while s:\n",
        "    s.pop()\n",
        "    print(s)\n"
      ],
      "metadata": {
        "colab": {
          "base_uri": "https://localhost:8080/"
        },
        "id": "rz-v9_ZaTyId",
        "outputId": "9ddce8a4-b259-4b18-fc2d-c200b1dd57bc"
      },
      "execution_count": 18,
      "outputs": [
        {
          "output_type": "stream",
          "name": "stdout",
          "text": [
            "{2, 3, 4, 5}\n",
            "{3, 4, 5}\n",
            "{4, 5}\n",
            "{5}\n",
            "set()\n"
          ]
        }
      ]
    },
    {
      "cell_type": "markdown",
      "source": [
        "Assignment 13: Set Symmetric Difference Update\n",
        "Create two sets and update the first set with the symmetric difference of the two sets. Print the modified first set."
      ],
      "metadata": {
        "id": "nTTtzuNjTz6r"
      }
    },
    {
      "cell_type": "code",
      "source": [
        "a = {1, 2, 3}\n",
        "b = {3, 4, 5}\n",
        "a.symmetric_difference_update(b)\n",
        "print(a)"
      ],
      "metadata": {
        "colab": {
          "base_uri": "https://localhost:8080/"
        },
        "id": "8eD3LwzuT0NV",
        "outputId": "65d62433-89d0-4875-820f-1edb6adb32f8"
      },
      "execution_count": 19,
      "outputs": [
        {
          "output_type": "stream",
          "name": "stdout",
          "text": [
            "{1, 2, 4, 5}\n"
          ]
        }
      ]
    },
    {
      "cell_type": "markdown",
      "source": [
        "Assignment 14: Set Membership Testing\n",
        "Create a set and test if certain elements are present in the set. Print the results."
      ],
      "metadata": {
        "id": "WvMnzUHuT1Un"
      }
    },
    {
      "cell_type": "code",
      "source": [
        "s = {10, 20, 30}\n",
        "print(20 in s)\n",
        "print(40 in s)\n"
      ],
      "metadata": {
        "colab": {
          "base_uri": "https://localhost:8080/"
        },
        "id": "qlUX162bT1ly",
        "outputId": "cbcbbb71-eb02-42af-aaae-ce52310f6669"
      },
      "execution_count": 20,
      "outputs": [
        {
          "output_type": "stream",
          "name": "stdout",
          "text": [
            "True\n",
            "False\n"
          ]
        }
      ]
    },
    {
      "cell_type": "markdown",
      "source": [
        "Assignment 15: Set of Tuples\n",
        "Create a set containing tuples, where each tuple contains two elements. Print the set."
      ],
      "metadata": {
        "id": "PP5BBz3gT2ri"
      }
    },
    {
      "cell_type": "code",
      "source": [
        "tuple_set = {(1, 2), (3, 4), (5, 6)}\n",
        "print(tuple_set)\n"
      ],
      "metadata": {
        "colab": {
          "base_uri": "https://localhost:8080/"
        },
        "id": "_-tGAl6IT2_c",
        "outputId": "398239ac-6218-4823-f6b4-5cac2253c7e8"
      },
      "execution_count": 21,
      "outputs": [
        {
          "output_type": "stream",
          "name": "stdout",
          "text": [
            "{(1, 2), (3, 4), (5, 6)}\n"
          ]
        }
      ]
    },
    {
      "cell_type": "code",
      "source": [],
      "metadata": {
        "id": "bCiNSj8iVBmf"
      },
      "execution_count": null,
      "outputs": []
    }
  ]
}
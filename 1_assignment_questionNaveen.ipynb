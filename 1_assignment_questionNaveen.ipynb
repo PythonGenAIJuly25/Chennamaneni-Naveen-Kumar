{
  "cells": [
    {
      "cell_type": "markdown",
      "metadata": {
        "id": "s5_FWyeacX_C"
      },
      "source": [
        "# Python Basics\n",
        "## Topics Covered:\n",
        "- Syntax and Semantics\n",
        "- Variables and Data Types\n",
        "- Basic Operators (Arithmetic, Comparison, Logical)\n"
      ]
    },
    {
      "cell_type": "markdown",
      "metadata": {
        "id": "Yvz9wxyYcX_E"
      },
      "source": [
        "## 1. Syntax and Semantics\n",
        "\n",
        "**Question 1:** Write a Python program to print \"Hello, World!\"."
      ]
    },
    {
      "cell_type": "code",
      "execution_count": null,
      "metadata": {
        "id": "F4sqPEAvcX_F"
      },
      "outputs": [],
      "source": [
        "# hello world\n",
        "print(\"Hello, World!\")"
      ]
    },
    {
      "cell_type": "markdown",
      "metadata": {
        "id": "G1Ttf7LRcX_F"
      },
      "source": [
        "**Question 2:** Write a Python program that takes a user input and prints it."
      ]
    },
    {
      "cell_type": "code",
      "execution_count": null,
      "metadata": {
        "id": "xcAqx-sTcX_F"
      },
      "outputs": [],
      "source": [
        "# Your code here\n",
        "name=int(input(\"Enter your age:\"))\n",
        "print(name)\n"
      ]
    },
    {
      "cell_type": "code",
      "source": [],
      "metadata": {
        "id": "ZA8pZB4MgQa2"
      },
      "execution_count": null,
      "outputs": []
    },
    {
      "cell_type": "markdown",
      "metadata": {
        "id": "oyrC9wLJcX_G"
      },
      "source": [
        "**Question 3:** Write a Python program to check if a number is positive, negative, or zero."
      ]
    },
    {
      "cell_type": "code",
      "execution_count": null,
      "metadata": {
        "id": "Qei-zm-ScX_G"
      },
      "outputs": [],
      "source": [
        "# Your code here\n",
        "num=int(input(\"Enter a number:\"))\n",
        "\n",
        "if numm>0:\n",
        "  print(\"The number is postive. \")\n",
        "elif numm<0:\n",
        "  print(\"The number is Negative.\")\n",
        "else:\n",
        "  print(\"The number is Zero.\")"
      ]
    },
    {
      "cell_type": "markdown",
      "metadata": {
        "id": "yBLDn_hIcX_G"
      },
      "source": [
        "**Question 4:** Write a Python program to find the largest of three numbers."
      ]
    },
    {
      "cell_type": "code",
      "execution_count": null,
      "metadata": {
        "id": "Y1Bfzye9cX_G"
      },
      "outputs": [],
      "source": [
        "# Your code here\n",
        "num1=int(input(\"Enter a number:\"))\n",
        "num2=int(input(\"Enter a number:\"))\n",
        "num3=int(input(\"Enter a number:\"))\n",
        "\n",
        "if num1 >= num1>num2 and num1>num3:\n",
        "  largest=num1\n",
        "\n",
        "elif num2 >= num2>num1 and num2>num3:\n",
        "  largest=num2\n",
        "\n",
        "else:\n",
        "   largest=num3\n",
        "\n",
        "print(f\"Largest numbers{largest: }\")"
      ]
    },
    {
      "cell_type": "markdown",
      "metadata": {
        "id": "6QhgYEcNcX_G"
      },
      "source": [
        "**Question 5:** Write a Python program to calculate the factorial of a number."
      ]
    },
    {
      "cell_type": "code",
      "execution_count": null,
      "metadata": {
        "id": "vbTIrGstcX_H"
      },
      "outputs": [],
      "source": [
        "# Your code here\n",
        "num=int(input(\"Enter a number:\"))\n",
        "if num<0:\n",
        "    print(\"Factorial doest not have \")\n",
        "elif num==0:\n",
        "    print(\"Factorial of 0 is 1\")\n",
        "else:\n",
        "    factorial=1\n",
        "    for i in range(1,num+1):\n",
        "        factorial *= i\n",
        "\n",
        "print(factorial)"
      ]
    },
    {
      "cell_type": "markdown",
      "metadata": {
        "id": "ttO4rP2vcX_H"
      },
      "source": [
        "## 2. Variables and Data Types\n",
        "\n",
        "**Question 6:** Create variables of different data types: integer, float, string, and boolean. Print their values and types."
      ]
    },
    {
      "cell_type": "code",
      "execution_count": null,
      "metadata": {
        "id": "ESnPCsBxcX_H"
      },
      "outputs": [],
      "source": [
        "# Your code here\n",
        "int=1\n",
        "float=8.99\n",
        "string=\"naveen\"\n",
        "is_student=True\n",
        "\n",
        "print(int,float,string,is_student)"
      ]
    },
    {
      "cell_type": "markdown",
      "metadata": {
        "id": "wkSeu_zQcX_H"
      },
      "source": [
        "**Question 7:** Write a Python program to swap the values of two variables."
      ]
    },
    {
      "cell_type": "code",
      "execution_count": null,
      "metadata": {
        "id": "tm1vv7MecX_H"
      },
      "outputs": [],
      "source": [
        "# Your code here\n",
        "a=input(\"Enter a name:\")\n",
        "b=input(\"Enter a second name:\")\n",
        "temp=a\n",
        "a=b\n",
        "b=temp\n",
        "print(f\"After swapping: a = {a}, b = {b}\")"
      ]
    },
    {
      "cell_type": "markdown",
      "metadata": {
        "id": "2r2VL4VccX_I"
      },
      "source": [
        "**Question 8:** Write a Python program to convert Celsius to Fahrenheit."
      ]
    },
    {
      "cell_type": "code",
      "execution_count": null,
      "metadata": {
        "id": "-EWN2jwhcX_I"
      },
      "outputs": [],
      "source": [
        "# Your code here\n",
        "\n",
        "celsius = float(input(\"Enter temperature in Celsius: \"))\n",
        "fahrenheit = (celsius * 9/5) + 32\n",
        "print(f\"{celsius}°C is equal to {fahrenheit}°F\")"
      ]
    },
    {
      "cell_type": "markdown",
      "metadata": {
        "id": "w-k_MeZAcX_I"
      },
      "source": [
        "**Question 9:** Write a Python program to concatenate two strings."
      ]
    },
    {
      "cell_type": "code",
      "execution_count": null,
      "metadata": {
        "id": "Cn8l9sQRcX_I"
      },
      "outputs": [],
      "source": [
        "# Your code here\n",
        "string1=input(\"Enter first name:\")\n",
        "string2=input(\"Enter second name:\")\n",
        "\n",
        "result=string1+string2\n",
        "\n",
        "print(result)"
      ]
    },
    {
      "cell_type": "markdown",
      "metadata": {
        "id": "Oj5mES5icX_I"
      },
      "source": [
        "**Question 10:** Write a Python program to check if a variable is of a specific data type."
      ]
    },
    {
      "cell_type": "code",
      "execution_count": null,
      "metadata": {
        "id": "Poq15dB_cX_I"
      },
      "outputs": [],
      "source": [
        "# Your code here\n",
        "name=\"Naveen\"\n",
        "type(name)"
      ]
    },
    {
      "cell_type": "markdown",
      "metadata": {
        "id": "ZQfgi9ZJcX_I"
      },
      "source": [
        "## 3. Basic Operators (Arithmetic, Comparison, Logical)\n",
        "\n",
        "**Question 11:** Write a Python program to perform arithmetic operations: addition, subtraction, multiplication, and division."
      ]
    },
    {
      "cell_type": "code",
      "execution_count": null,
      "metadata": {
        "id": "TcPNbDywcX_J"
      },
      "outputs": [],
      "source": [
        "# Your code here\n",
        "a=10\n",
        "b=20\n",
        "print(a+b)\n",
        "print(a-b)\n",
        "print(a*b)\n",
        "print(a/b)"
      ]
    },
    {
      "cell_type": "markdown",
      "metadata": {
        "id": "-g-T5ldDcX_J"
      },
      "source": [
        "**Question 12:** Write a Python program to demonstrate comparison operators: equal to, not equal to, greater than, less than."
      ]
    },
    {
      "cell_type": "code",
      "execution_count": null,
      "metadata": {
        "id": "Jlp8I-Q5cX_J"
      },
      "outputs": [],
      "source": [
        "# Your code here\n",
        "a=10\n",
        "b=20\n",
        "print(a==b)\n",
        "print(a!=b)\n",
        "print(a<b)\n",
        "print(a>b)"
      ]
    },
    {
      "cell_type": "markdown",
      "metadata": {
        "id": "oVCVFpcHcX_J"
      },
      "source": [
        "**Question 13:** Write a Python program to demonstrate logical operators: and, or, not."
      ]
    },
    {
      "cell_type": "code",
      "execution_count": null,
      "metadata": {
        "id": "4afEoXhLcX_J"
      },
      "outputs": [],
      "source": [
        "# Your code here\n",
        "a = 10\n",
        "b = 20\n",
        "\n",
        "print(a and b)\n",
        "print(a or b)\n",
        "print(not b)"
      ]
    },
    {
      "cell_type": "markdown",
      "metadata": {
        "id": "hjq0bbJYcX_J"
      },
      "source": [
        "**Question 14:** Write a Python program to calculate the square of a number."
      ]
    },
    {
      "cell_type": "code",
      "execution_count": null,
      "metadata": {
        "id": "Ec0ZzBEAcX_K"
      },
      "outputs": [],
      "source": [
        "# Your code here\n",
        "num=int(input(\"Enter a number\"))\n",
        "square=num*2\n",
        "print(square)"
      ]
    },
    {
      "cell_type": "markdown",
      "metadata": {
        "id": "734T5kyIcX_K"
      },
      "source": [
        "**Question 15:** Write a Python program to check if a number is even or odd."
      ]
    },
    {
      "cell_type": "code",
      "execution_count": null,
      "metadata": {
        "id": "DFt5BFLCcX_K"
      },
      "outputs": [],
      "source": [
        "# Your code here\n",
        "num=int(input(\"Enter a number\"))\n",
        "if num%2==0:\n",
        "  print(\"The number is even\")\n",
        "else:\n",
        "  print(\"The number is odd\")"
      ]
    },
    {
      "cell_type": "markdown",
      "metadata": {
        "id": "mIvtsKSocX_K"
      },
      "source": [
        "**Question 16:** Write a Python program to find the sum of the first n natural numbers."
      ]
    },
    {
      "cell_type": "code",
      "execution_count": null,
      "metadata": {
        "id": "aqlROPfccX_K"
      },
      "outputs": [],
      "source": [
        "# Your code here\n",
        "num=int(input(\"Enter a number\"))\n",
        "sum=0\n",
        "for i in range(1,num+1):\n",
        "  sum+=i\n",
        "print(sum)"
      ]
    },
    {
      "cell_type": "markdown",
      "metadata": {
        "id": "kin9WesbcX_L"
      },
      "source": [
        "**Question 17:** Write a Python program to check if a year is a leap year."
      ]
    },
    {
      "cell_type": "code",
      "execution_count": null,
      "metadata": {
        "id": "zKer8xb_cX_L"
      },
      "outputs": [],
      "source": [
        "# Your code here\n",
        "year = int(input(\"Enter a year: \"))\n"
      ]
    },
    {
      "cell_type": "markdown",
      "metadata": {
        "id": "fD4-QnhacX_L"
      },
      "source": [
        "**Question 18:** Write a Python program to reverse a string."
      ]
    },
    {
      "cell_type": "code",
      "execution_count": 1,
      "metadata": {
        "id": "M0geejMfcX_L",
        "colab": {
          "base_uri": "https://localhost:8080/"
        },
        "outputId": "814bbf26-0c9a-464e-e998-03bac15ebdf7"
      },
      "outputs": [
        {
          "output_type": "stream",
          "name": "stdout",
          "text": [
            "Enter a year: 2003\n",
            "Not a leap year\n"
          ]
        }
      ],
      "source": [
        "# Your code here\n",
        "year = int(input(\"Enter a year: \"))\n",
        "\n",
        "if (year % 4 == 0 and year % 100 != 0) or (year % 400 == 0):\n",
        "    print(\"Leap year\")\n",
        "else:\n",
        "    print(\"Not a leap year\")"
      ]
    },
    {
      "cell_type": "markdown",
      "metadata": {
        "id": "EZkYVJ5acX_L"
      },
      "source": [
        "**Question 19:** Write a Python program to check if a string is a palindrome."
      ]
    },
    {
      "cell_type": "code",
      "execution_count": null,
      "metadata": {
        "id": "l5y_3qNDcX_L"
      },
      "outputs": [],
      "source": [
        "# Your code here\n",
        "text = input(\"Enter a string: \")\n",
        "\n",
        "if text == text[::-1]:\n",
        "    print(\"Palindrome\")\n",
        "else:\n",
        "    print(\"Not a palindrome\")"
      ]
    },
    {
      "cell_type": "markdown",
      "metadata": {
        "id": "bb_8Q2ricX_S"
      },
      "source": [
        "**Question 20:** Write a Python program to sort a list of numbers in ascending order."
      ]
    },
    {
      "cell_type": "code",
      "execution_count": 3,
      "metadata": {
        "id": "fn-mdhg8cX_S",
        "colab": {
          "base_uri": "https://localhost:8080/"
        },
        "outputId": "bf8e87e0-cfb2-4f3f-9df1-0494daf5c2d8"
      },
      "outputs": [
        {
          "output_type": "stream",
          "name": "stdout",
          "text": [
            "Enter numbers separated by spaces: 5 2 9\n",
            "[2, 5, 9]\n"
          ]
        }
      ],
      "source": [
        "# Your code here\n",
        "numbers = list(map(int, input(\"Enter numbers separated by spaces: \").split()))\n",
        "numbers.sort()\n",
        "print(numbers)"
      ]
    },
    {
      "cell_type": "code",
      "source": [],
      "metadata": {
        "id": "pUYmSE-Q-PBd"
      },
      "execution_count": null,
      "outputs": []
    }
  ],
  "metadata": {
    "kernelspec": {
      "display_name": "Python 3",
      "language": "python",
      "name": "python3"
    },
    "language_info": {
      "codemirror_mode": {
        "name": "ipython",
        "version": 3
      },
      "file_extension": ".py",
      "mimetype": "text/x-python",
      "name": "python",
      "nbconvert_exporter": "python",
      "pygments_lexer": "ipython3",
      "version": "3.8.5"
    },
    "colab": {
      "provenance": []
    }
  },
  "nbformat": 4,
  "nbformat_minor": 0
}
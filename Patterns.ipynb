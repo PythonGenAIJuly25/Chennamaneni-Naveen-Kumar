{
  "nbformat": 4,
  "nbformat_minor": 0,
  "metadata": {
    "colab": {
      "provenance": []
    },
    "kernelspec": {
      "name": "python3",
      "display_name": "Python 3"
    },
    "language_info": {
      "name": "python"
    }
  },
  "cells": [
    {
      "cell_type": "markdown",
      "source": [
        "Write the Python code to print the pattern"
      ],
      "metadata": {
        "id": "EpZIZO2ATomx"
      }
    },
    {
      "cell_type": "code",
      "execution_count": 2,
      "metadata": {
        "colab": {
          "base_uri": "https://localhost:8080/"
        },
        "id": "k4hVxhWRSSnb",
        "outputId": "e33485c9-a33a-4c88-ee07-22275d5dfdba"
      },
      "outputs": [
        {
          "output_type": "stream",
          "name": "stdout",
          "text": [
            "\n",
            "*\n",
            "**\n",
            "***\n",
            "****\n",
            "*****\n"
          ]
        }
      ],
      "source": [
        "num=6\n",
        "for i in range(num):\n",
        "    for j in range(i):\n",
        "        print(\"*\",end=\"\")\n",
        "    print(\"\")"
      ]
    },
    {
      "cell_type": "markdown",
      "source": [
        "Write the Python code to print the pattern"
      ],
      "metadata": {
        "id": "CJYJ0eTDTqZR"
      }
    },
    {
      "cell_type": "code",
      "source": [
        "num=6\n",
        "for i in range(num):\n",
        "    space=\" \"*(num-i)\n",
        "    star=\"*\"*i\n",
        "    print(space,star)"
      ],
      "metadata": {
        "colab": {
          "base_uri": "https://localhost:8080/"
        },
        "id": "U1jSgCgESVJu",
        "outputId": "c5f5cf2d-e6a2-4316-cb25-7357cc49526c"
      },
      "execution_count": 3,
      "outputs": [
        {
          "output_type": "stream",
          "name": "stdout",
          "text": [
            "       \n",
            "      *\n",
            "     **\n",
            "    ***\n",
            "   ****\n",
            "  *****\n"
          ]
        }
      ]
    },
    {
      "cell_type": "markdown",
      "source": [
        "Write the Python code to print the pattern"
      ],
      "metadata": {
        "id": "KKYKlB76TrnL"
      }
    },
    {
      "cell_type": "code",
      "source": [
        "rows = 5\n",
        "\n",
        "for i in range(rows, 0, -1):\n",
        "    for space in range(rows - i):\n",
        "        print(\" \", end=\"\")\n",
        "\n",
        "    for star in range(i):\n",
        "        print(\"*\", end=\" \")\n",
        "\n",
        "    print()"
      ],
      "metadata": {
        "colab": {
          "base_uri": "https://localhost:8080/"
        },
        "id": "tzAbtZ4sSffs",
        "outputId": "89a6298f-9065-470d-d6c8-3d7e434d502b"
      },
      "execution_count": 4,
      "outputs": [
        {
          "output_type": "stream",
          "name": "stdout",
          "text": [
            "* * * * * \n",
            " * * * * \n",
            "  * * * \n",
            "   * * \n",
            "    * \n"
          ]
        }
      ]
    },
    {
      "cell_type": "markdown",
      "source": [
        "Write the Python code to print the pattern"
      ],
      "metadata": {
        "id": "WX9WMg4vTtKy"
      }
    },
    {
      "cell_type": "code",
      "source": [
        "num=6\n",
        "for i in range(num):\n",
        "    for j in range(num):\n",
        "        print(\"*\",end=\"\")\n",
        "    num-=1\n",
        "    print(\"\")"
      ],
      "metadata": {
        "colab": {
          "base_uri": "https://localhost:8080/"
        },
        "id": "V7TYBK3TSjdP",
        "outputId": "d228ad0d-8b46-4a85-a8d1-73f6721c857c"
      },
      "execution_count": 5,
      "outputs": [
        {
          "output_type": "stream",
          "name": "stdout",
          "text": [
            "******\n",
            "*****\n",
            "****\n",
            "***\n",
            "**\n",
            "*\n"
          ]
        }
      ]
    },
    {
      "cell_type": "markdown",
      "source": [
        "Write the Python code to print the pattern"
      ],
      "metadata": {
        "id": "auz_dxsATuQv"
      }
    },
    {
      "cell_type": "code",
      "source": [
        "num=6\n",
        "for i in range(num+1):\n",
        "    for j in range(i):\n",
        "        print(\"*\",end=\"\")\n",
        "    print(\" \")\n",
        "\n",
        "print(\"\\n\",end=\"\")\n",
        "\n",
        "for i in range(num):\n",
        "    for j in range(num):\n",
        "        print(\"*\",end=\"\")\n",
        "    num-=1\n",
        "    print(\" \")"
      ],
      "metadata": {
        "colab": {
          "base_uri": "https://localhost:8080/"
        },
        "id": "6oZFVDimSmzf",
        "outputId": "44766cd6-7be5-4f20-c566-41d3e5c7940d"
      },
      "execution_count": 6,
      "outputs": [
        {
          "output_type": "stream",
          "name": "stdout",
          "text": [
            " \n",
            "* \n",
            "** \n",
            "*** \n",
            "**** \n",
            "***** \n",
            "****** \n",
            "\n",
            "****** \n",
            "***** \n",
            "**** \n",
            "*** \n",
            "** \n",
            "* \n"
          ]
        }
      ]
    },
    {
      "cell_type": "markdown",
      "source": [
        "Write the Python code to print the pattern"
      ],
      "metadata": {
        "id": "Qkslbh-UTvUR"
      }
    },
    {
      "cell_type": "code",
      "source": [
        "num=6\n",
        "for i in range(num+1):\n",
        "    for j in range(i):\n",
        "        print(\"*\",end=\"\")\n",
        "    print(\" \")\n",
        "print(\"\",end=\"\")\n",
        "for i in range(num+1):\n",
        "    for j in range(num+1):\n",
        "        print(\"*\",end=\"\")\n",
        "    num-=1\n",
        "    print(\" \")"
      ],
      "metadata": {
        "colab": {
          "base_uri": "https://localhost:8080/"
        },
        "id": "WpKZ0EWqSrgN",
        "outputId": "b2a6827d-9e72-49d1-9eea-f51304e3a9a2"
      },
      "execution_count": 7,
      "outputs": [
        {
          "output_type": "stream",
          "name": "stdout",
          "text": [
            " \n",
            "* \n",
            "** \n",
            "*** \n",
            "**** \n",
            "***** \n",
            "****** \n",
            "******* \n",
            "****** \n",
            "***** \n",
            "**** \n",
            "*** \n",
            "** \n",
            "* \n"
          ]
        }
      ]
    },
    {
      "cell_type": "markdown",
      "source": [
        "Write the Python code to print the pattern"
      ],
      "metadata": {
        "id": "E6t4wgvbTwbH"
      }
    },
    {
      "cell_type": "code",
      "source": [
        "num=6\n",
        "for i in range(num+1):\n",
        "    for j in range(num-i):\n",
        "        print(\" \",end=\"\")\n",
        "    for j in range(i+1):\n",
        "        print(\"*\",end=\"\")\n",
        "    print(\"\")\n",
        "\n",
        "print(\"\",end=\"\")\n",
        "for i in range(num):\n",
        "    for j in range(i+1):\n",
        "        print(\" \",end=\"\")\n",
        "\n",
        "    for k in range(num-i):\n",
        "        print(\"*\",end=\"\")\n",
        "    print(\"\")"
      ],
      "metadata": {
        "colab": {
          "base_uri": "https://localhost:8080/"
        },
        "id": "SSY3wx6GSvPQ",
        "outputId": "05f11327-3301-42ac-81a4-cd8cb7401096"
      },
      "execution_count": 8,
      "outputs": [
        {
          "output_type": "stream",
          "name": "stdout",
          "text": [
            "      *\n",
            "     **\n",
            "    ***\n",
            "   ****\n",
            "  *****\n",
            " ******\n",
            "*******\n",
            " ******\n",
            "  *****\n",
            "   ****\n",
            "    ***\n",
            "     **\n",
            "      *\n"
          ]
        }
      ]
    },
    {
      "cell_type": "markdown",
      "source": [
        "Write the Python code to print the pattern"
      ],
      "metadata": {
        "id": "p1Qm-7OiTxqp"
      }
    },
    {
      "cell_type": "code",
      "source": [
        "rows = 5\n",
        "\n",
        "for i in range(rows, 0, -1):\n",
        "    for space in range(rows - i):\n",
        "        print(\" \", end=\"\")\n",
        "\n",
        "    for star in range(i):\n",
        "        print(\"*\", end=\" \")\n",
        "\n",
        "    print()\n",
        "for i in range(rows):\n",
        "    for space in range(rows-i):\n",
        "        print(\" \", end=\"\")\n",
        "    for star in range(i):\n",
        "        print(\"*\", end=\" \")\n",
        "\n",
        "    print()"
      ],
      "metadata": {
        "colab": {
          "base_uri": "https://localhost:8080/"
        },
        "id": "33qV69cqS18_",
        "outputId": "88c79706-6ac7-482b-d911-1c6807228c65"
      },
      "execution_count": 9,
      "outputs": [
        {
          "output_type": "stream",
          "name": "stdout",
          "text": [
            "* * * * * \n",
            " * * * * \n",
            "  * * * \n",
            "   * * \n",
            "    * \n",
            "     \n",
            "    * \n",
            "   * * \n",
            "  * * * \n",
            " * * * * \n"
          ]
        }
      ]
    },
    {
      "cell_type": "markdown",
      "source": [
        "Write the Python code to print the pattern"
      ],
      "metadata": {
        "id": "jFL4YELPTy6a"
      }
    },
    {
      "cell_type": "code",
      "source": [
        "rows = 5\n",
        "\n",
        "for i in range(1, rows + 1):\n",
        "    for space in range(rows - i):\n",
        "        print(\" \", end=\"\")\n",
        "    for star in range(2 * i - 1):\n",
        "        print(\"*\", end=\"\")\n",
        "    print()\n",
        "\n",
        "for i in range(rows - 1, 0, -1):\n",
        "    for space in range(rows - i):\n",
        "        print(\" \", end=\"\")\n",
        "    for star in range(2 * i - 1):\n",
        "        print(\"*\", end=\"\")\n",
        "    print()"
      ],
      "metadata": {
        "colab": {
          "base_uri": "https://localhost:8080/"
        },
        "id": "2dEJy_1tS81f",
        "outputId": "c301b448-c46a-48d1-8be8-da0efb2976db"
      },
      "execution_count": 10,
      "outputs": [
        {
          "output_type": "stream",
          "name": "stdout",
          "text": [
            "    *\n",
            "   ***\n",
            "  *****\n",
            " *******\n",
            "*********\n",
            " *******\n",
            "  *****\n",
            "   ***\n",
            "    *\n"
          ]
        }
      ]
    },
    {
      "cell_type": "markdown",
      "source": [
        "Write the Python code to print the pattern Numbers"
      ],
      "metadata": {
        "id": "H674NKppT6IJ"
      }
    },
    {
      "cell_type": "code",
      "source": [
        "rows = 7\n",
        "ch = 65\n",
        "\n",
        "for i in range(1, rows + 1):\n",
        "    for j in range(i):\n",
        "        print(chr(ch), end=\" \")\n",
        "        ch += 1\n",
        "    print()"
      ],
      "metadata": {
        "colab": {
          "base_uri": "https://localhost:8080/"
        },
        "id": "nhxdLMbxS9IW",
        "outputId": "02550769-30b7-435e-bdb5-ce5591314879"
      },
      "execution_count": 11,
      "outputs": [
        {
          "output_type": "stream",
          "name": "stdout",
          "text": [
            "A \n",
            "B C \n",
            "D E F \n",
            "G H I J \n",
            "K L M N O \n",
            "P Q R S T U \n",
            "V W X Y Z [ \\ \n"
          ]
        }
      ]
    },
    {
      "cell_type": "markdown",
      "source": [
        "Write the Python code to print the pattern Numbers"
      ],
      "metadata": {
        "id": "WcbhcYwQT-wH"
      }
    },
    {
      "cell_type": "code",
      "source": [
        "num = 1\n",
        "\n",
        "for i in range(1, 6):\n",
        "    for j in range(i):\n",
        "        print(num, end=\" \")\n",
        "    print()\n",
        "    num += 2"
      ],
      "metadata": {
        "colab": {
          "base_uri": "https://localhost:8080/"
        },
        "id": "K8oOwUCKTAE7",
        "outputId": "73c532af-7c8c-485e-89e2-5681e47afe0c"
      },
      "execution_count": 12,
      "outputs": [
        {
          "output_type": "stream",
          "name": "stdout",
          "text": [
            "1 \n",
            "3 3 \n",
            "5 5 5 \n",
            "7 7 7 7 \n",
            "9 9 9 9 9 \n"
          ]
        }
      ]
    },
    {
      "cell_type": "markdown",
      "source": [
        "Write the Python code to print the pattern Numbers"
      ],
      "metadata": {
        "id": "omftwGedUJbD"
      }
    },
    {
      "cell_type": "code",
      "source": [
        "n = 5\n",
        "\n",
        "for i in range(1, n + 1):\n",
        "    for j in range(1, n + 1):\n",
        "        if j <= i:\n",
        "            print(i, end=\" \")\n",
        "        else:\n",
        "            print(j, end=\" \")\n",
        "    print()\n"
      ],
      "metadata": {
        "colab": {
          "base_uri": "https://localhost:8080/"
        },
        "id": "36hM31SITCe8",
        "outputId": "ea8bb285-c043-4353-ec11-530098da2a59"
      },
      "execution_count": 13,
      "outputs": [
        {
          "output_type": "stream",
          "name": "stdout",
          "text": [
            "1 2 3 4 5 \n",
            "2 2 3 4 5 \n",
            "3 3 3 4 5 \n",
            "4 4 4 4 5 \n",
            "5 5 5 5 5 \n"
          ]
        }
      ]
    },
    {
      "cell_type": "code",
      "source": [],
      "metadata": {
        "id": "0dx8M5yPTF29"
      },
      "execution_count": null,
      "outputs": []
    }
  ]
}
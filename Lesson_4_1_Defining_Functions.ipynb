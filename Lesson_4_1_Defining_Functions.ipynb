{
  "nbformat": 4,
  "nbformat_minor": 0,
  "metadata": {
    "colab": {
      "provenance": []
    },
    "kernelspec": {
      "name": "python3",
      "display_name": "Python 3"
    },
    "language_info": {
      "name": "python"
    }
  },
  "cells": [
    {
      "cell_type": "code",
      "execution_count": null,
      "metadata": {
        "id": "SJsf8W0aXUuN"
      },
      "outputs": [],
      "source": []
    },
    {
      "cell_type": "markdown",
      "source": [
        "Assignment 1: Simple Function\n",
        "Define a function that takes a single integer as input and returns its square. Test the function with different inputs.\n",
        "\n"
      ],
      "metadata": {
        "id": "VOD5k-yGXY-1"
      }
    },
    {
      "cell_type": "code",
      "source": [
        "def square(n):\n",
        "    return n ** 2\n",
        "\n",
        "print(square(3))\n",
        "print(square(5))"
      ],
      "metadata": {
        "colab": {
          "base_uri": "https://localhost:8080/"
        },
        "id": "Ee_YleZ0XZay",
        "outputId": "8a270eab-d932-4bd0-e9bd-1ef6cdbe9201"
      },
      "execution_count": 1,
      "outputs": [
        {
          "output_type": "stream",
          "name": "stdout",
          "text": [
            "9\n",
            "25\n"
          ]
        }
      ]
    },
    {
      "cell_type": "markdown",
      "source": [
        "Assignment 2: Multiple Arguments\n",
        "Define a function that takes two integers as input and returns their sum. Test the function with different inputs."
      ],
      "metadata": {
        "id": "fjAm3-ibXa8U"
      }
    },
    {
      "cell_type": "code",
      "source": [
        "def add(a, b):\n",
        "    return a + b\n",
        "\n",
        "print(add(4, 5))\n",
        "print(add(10, 15))"
      ],
      "metadata": {
        "colab": {
          "base_uri": "https://localhost:8080/"
        },
        "id": "EgKhaTaRXbPx",
        "outputId": "a31fc182-0727-4505-9405-462b0541555b"
      },
      "execution_count": 2,
      "outputs": [
        {
          "output_type": "stream",
          "name": "stdout",
          "text": [
            "9\n",
            "25\n"
          ]
        }
      ]
    },
    {
      "cell_type": "markdown",
      "source": [
        "Assignment 3: Default Arguments\n",
        "Define a function that takes two integers as input and returns their sum. The second integer should have a default value of 5. Test the function with different inputs."
      ],
      "metadata": {
        "id": "PVrnQ7p-XccJ"
      }
    },
    {
      "cell_type": "code",
      "source": [
        "def add(a, b=5):\n",
        "    return a + b\n",
        "\n",
        "print(add(4))\n",
        "print(add(4, 3))"
      ],
      "metadata": {
        "colab": {
          "base_uri": "https://localhost:8080/"
        },
        "id": "xWC0XnQQXcuQ",
        "outputId": "42881d52-c116-4ea0-b87b-f57899215cd0"
      },
      "execution_count": 3,
      "outputs": [
        {
          "output_type": "stream",
          "name": "stdout",
          "text": [
            "9\n",
            "7\n"
          ]
        }
      ]
    },
    {
      "cell_type": "markdown",
      "source": [
        "Assignment 4: Keyword Arguments\n",
        "Define a function that takes three named arguments: first_name, last_name, and age, and returns a formatted string. Test the function with different inputs."
      ],
      "metadata": {
        "id": "hldw7SRJXdv3"
      }
    },
    {
      "cell_type": "code",
      "source": [
        "def person_info(first_name, last_name, age):\n",
        "    return f\"{first_name} {last_name} is {age} years old.\"\n",
        "\n",
        "print(person_info(first_name=\"Naveen\", last_name=\"Kumar\", age=21))\n"
      ],
      "metadata": {
        "colab": {
          "base_uri": "https://localhost:8080/"
        },
        "id": "DFCZ2CevXd8-",
        "outputId": "4be6806b-d817-400d-941a-b72884f3852c"
      },
      "execution_count": 4,
      "outputs": [
        {
          "output_type": "stream",
          "name": "stdout",
          "text": [
            "Naveen Kumar is 21 years old.\n"
          ]
        }
      ]
    },
    {
      "cell_type": "markdown",
      "source": [
        "Assignment 5: Variable-length Arguments\n",
        "Define a function that takes a variable number of integer arguments and returns their product. Test the function with different inputs."
      ],
      "metadata": {
        "id": "kbdT9-eFXfZA"
      }
    },
    {
      "cell_type": "code",
      "source": [
        "def multiply(*args):\n",
        "    result = 1\n",
        "    for num in args:\n",
        "        result *= num\n",
        "    return result\n",
        "\n",
        "print(multiply(2, 3, 4))"
      ],
      "metadata": {
        "colab": {
          "base_uri": "https://localhost:8080/"
        },
        "id": "vBwPwELuXfuc",
        "outputId": "215ec364-eba1-40b2-867e-cc6b729ee29c"
      },
      "execution_count": 5,
      "outputs": [
        {
          "output_type": "stream",
          "name": "stdout",
          "text": [
            "24\n"
          ]
        }
      ]
    },
    {
      "cell_type": "markdown",
      "source": [
        "Assignment 6: Nested Functions\n",
        "Define a function that contains another function inside it. The outer function should take two integers as input and return the result of the inner function, which multiplies the two integers. Test the function with different inputs."
      ],
      "metadata": {
        "id": "36K45rykXhiY"
      }
    },
    {
      "cell_type": "code",
      "source": [
        "def outer(a, b):\n",
        "    def inner(x, y):\n",
        "        return x * y\n",
        "    return inner(a, b)\n",
        "\n",
        "print(outer(5, 4))"
      ],
      "metadata": {
        "colab": {
          "base_uri": "https://localhost:8080/"
        },
        "id": "URI90dS2Xh2O",
        "outputId": "3abc1292-4a9e-4107-8fa1-9972c222ae56"
      },
      "execution_count": 6,
      "outputs": [
        {
          "output_type": "stream",
          "name": "stdout",
          "text": [
            "20\n"
          ]
        }
      ]
    },
    {
      "cell_type": "markdown",
      "source": [
        "Assignment 7: Returning Multiple Values\n",
        "Define a function that takes a single integer as input and returns the integer squared, cubed, and raised to the power of four. Test the function with different inputs."
      ],
      "metadata": {
        "id": "5q9x7X2vXjAg"
      }
    },
    {
      "cell_type": "code",
      "source": [
        "def powers(n):\n",
        "    return n**2, n**3, n**4\n",
        "\n",
        "print(powers(2))"
      ],
      "metadata": {
        "colab": {
          "base_uri": "https://localhost:8080/"
        },
        "id": "N0exECN7XjSw",
        "outputId": "d40176c8-76aa-450f-e980-8efa606511d0"
      },
      "execution_count": 7,
      "outputs": [
        {
          "output_type": "stream",
          "name": "stdout",
          "text": [
            "(4, 8, 16)\n"
          ]
        }
      ]
    },
    {
      "cell_type": "markdown",
      "source": [
        "Assignment 8: Recursive Function\n",
        "Define a recursive function that calculates the factorial of a given number. Test the function with different inputs."
      ],
      "metadata": {
        "id": "h4IM0WKbXk3D"
      }
    },
    {
      "cell_type": "code",
      "source": [
        "def factorial(n):\n",
        "    if n == 0:\n",
        "        return 1\n",
        "    return n * factorial(n - 1)\n",
        "\n",
        "print(factorial(5))"
      ],
      "metadata": {
        "colab": {
          "base_uri": "https://localhost:8080/"
        },
        "id": "flVMvlAvXlJP",
        "outputId": "ac94fcd1-8a9a-4ad8-b88b-3e75122b4f02"
      },
      "execution_count": 8,
      "outputs": [
        {
          "output_type": "stream",
          "name": "stdout",
          "text": [
            "120\n"
          ]
        }
      ]
    },
    {
      "cell_type": "markdown",
      "source": [
        "Assignment 9: Lambda Function\n",
        "Define a lambda function that takes two integers as input and returns their sum. Test the lambda function with different inputs."
      ],
      "metadata": {
        "id": "V4AG1zCkXmaY"
      }
    },
    {
      "cell_type": "code",
      "source": [
        "add = lambda a, b: a + b\n",
        "print(add(3, 4))"
      ],
      "metadata": {
        "colab": {
          "base_uri": "https://localhost:8080/"
        },
        "id": "A8CZl34KXmuV",
        "outputId": "752c5f00-fa29-49ce-d4ee-59587a9ba413"
      },
      "execution_count": 9,
      "outputs": [
        {
          "output_type": "stream",
          "name": "stdout",
          "text": [
            "7\n"
          ]
        }
      ]
    },
    {
      "cell_type": "markdown",
      "source": [
        "Assignment 10: Map Function\n",
        "Use the map function to apply a lambda function that squares each number in a list of integers. Test with different lists."
      ],
      "metadata": {
        "id": "1ExstnUXXq2C"
      }
    },
    {
      "cell_type": "code",
      "source": [
        "nums = [1, 2, 3, 4]\n",
        "squares = list(map(lambda x: x ** 2, nums))\n",
        "print(squares)"
      ],
      "metadata": {
        "colab": {
          "base_uri": "https://localhost:8080/"
        },
        "id": "00agR5NhXoPC",
        "outputId": "436543b7-cb60-45ff-9a0d-e7830454e976"
      },
      "execution_count": 10,
      "outputs": [
        {
          "output_type": "stream",
          "name": "stdout",
          "text": [
            "[1, 4, 9, 16]\n"
          ]
        }
      ]
    },
    {
      "cell_type": "markdown",
      "source": [
        "Assignment 11: Filter Function\n",
        "Use the filter function to filter out all odd numbers from a list of integers. Test with different lists."
      ],
      "metadata": {
        "id": "s4oxZ5frXrwI"
      }
    },
    {
      "cell_type": "code",
      "source": [
        "nums = [1, 2, 3, 4, 5, 6]\n",
        "evens = list(filter(lambda x: x % 2 == 0, nums))\n",
        "print(evens)"
      ],
      "metadata": {
        "colab": {
          "base_uri": "https://localhost:8080/"
        },
        "id": "eJs69kpvXtGM",
        "outputId": "8ec48443-53c9-497b-d190-ee4d5b128ab8"
      },
      "execution_count": 11,
      "outputs": [
        {
          "output_type": "stream",
          "name": "stdout",
          "text": [
            "[2, 4, 6]\n"
          ]
        }
      ]
    },
    {
      "cell_type": "markdown",
      "source": [
        "Assignment 12: Function Decorator\n",
        "Define a decorator function that prints 'Executing function...' before executing a function and 'Function executed.' after executing it. Apply this decorator to a function that takes a list of integers and returns their sum. Test the decorated function with different lists."
      ],
      "metadata": {
        "id": "UucEsQ5OXvcp"
      }
    },
    {
      "cell_type": "code",
      "source": [
        "def decorator(func):\n",
        "    def wrapper(*args, **kwargs):\n",
        "        print(\"Executing function...\")\n",
        "        result = func(*args, **kwargs)\n",
        "        print(\"Function executed.\")\n",
        "        return result\n",
        "    return wrapper\n",
        "\n",
        "@decorator\n",
        "def sum_list(lst):\n",
        "    return sum(lst)\n",
        "\n",
        "print(sum_list([1, 2, 3, 4]))"
      ],
      "metadata": {
        "colab": {
          "base_uri": "https://localhost:8080/"
        },
        "id": "C-q9QUzhXvv3",
        "outputId": "13ce274f-6843-4d45-a553-16999d4bbc1c"
      },
      "execution_count": 13,
      "outputs": [
        {
          "output_type": "stream",
          "name": "stdout",
          "text": [
            "Executing function...\n",
            "Function executed.\n",
            "10\n"
          ]
        }
      ]
    },
    {
      "cell_type": "markdown",
      "source": [
        "Assignment 13: Function with *args and **kwargs\n",
        "Define a function that takes variable-length arguments and keyword arguments and prints them. Test the function with different inputs."
      ],
      "metadata": {
        "id": "kx3VXTDgXw1d"
      }
    },
    {
      "cell_type": "code",
      "source": [
        "def print_all(*args, **kwargs):\n",
        "    print(\"Args:\", args)\n",
        "    print(\"Kwargs:\", kwargs)\n",
        "\n",
        "print_all(1, 2, 3, name=\"Naveen\", age=21)"
      ],
      "metadata": {
        "colab": {
          "base_uri": "https://localhost:8080/"
        },
        "id": "uj4JwpY3XxOg",
        "outputId": "af48dd33-d501-4725-93b8-6086a59fb58f"
      },
      "execution_count": 14,
      "outputs": [
        {
          "output_type": "stream",
          "name": "stdout",
          "text": [
            "Args: (1, 2, 3)\n",
            "Kwargs: {'name': 'Naveen', 'age': 21}\n"
          ]
        }
      ]
    },
    {
      "cell_type": "markdown",
      "source": [
        "Assignment 14: Higher-Order Function\n",
        "Define a higher-order function that takes a function and a list of integers as arguments, and applies the function to each integer in the list. Test with different functions and lists."
      ],
      "metadata": {
        "id": "jy_lH3b7XzO2"
      }
    },
    {
      "cell_type": "code",
      "source": [
        "def apply_func(func, nums):\n",
        "    return [func(x) for x in nums]\n",
        "result = apply_func(lambda x: x * 2, [1, 2, 3])\n",
        "print(result)"
      ],
      "metadata": {
        "colab": {
          "base_uri": "https://localhost:8080/"
        },
        "id": "CPzfonBWXzi0",
        "outputId": "9e3055d7-c4d5-4072-eb28-eee3444f57c7"
      },
      "execution_count": 15,
      "outputs": [
        {
          "output_type": "stream",
          "name": "stdout",
          "text": [
            "[2, 4, 6]\n"
          ]
        }
      ]
    },
    {
      "cell_type": "markdown",
      "source": [
        "Assignment 15: Function Documentation\n",
        "Define a function with a docstring that explains what the function does, its parameters, and its return value. Print the function's docstring."
      ],
      "metadata": {
        "id": "TzK6wMY1X0wn"
      }
    },
    {
      "cell_type": "code",
      "source": [
        "def add(a, b):\n",
        "    \"\"\"\n",
        "    Adds two numbers.\n",
        "\n",
        "    Parameters:\n",
        "    a (int): first name\n",
        "    b (int): Second name\n",
        "\n",
        "    Returns:\n",
        "    int: Sum of Naveen and Kumar\n",
        "    \"\"\"\n",
        "    return a + b\n",
        "\n",
        "print(add.__doc__)\n"
      ],
      "metadata": {
        "colab": {
          "base_uri": "https://localhost:8080/"
        },
        "id": "6EMkYy2DX1DQ",
        "outputId": "e3b4f3b4-0dd1-45dd-bc6f-0691a827ff2b"
      },
      "execution_count": 17,
      "outputs": [
        {
          "output_type": "stream",
          "name": "stdout",
          "text": [
            "\n",
            "    Adds two numbers.\n",
            "\n",
            "    Parameters:\n",
            "    a (int): first name\n",
            "    b (int): Second name\n",
            "\n",
            "    Returns:\n",
            "    int: Sum of Naveen and Kumar\n",
            "    \n"
          ]
        }
      ]
    },
    {
      "cell_type": "code",
      "source": [],
      "metadata": {
        "id": "lSRPrFUsY5Ly"
      },
      "execution_count": null,
      "outputs": []
    }
  ]
}
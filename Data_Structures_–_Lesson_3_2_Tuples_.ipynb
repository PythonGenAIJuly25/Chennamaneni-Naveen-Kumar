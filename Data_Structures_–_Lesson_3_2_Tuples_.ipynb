{
  "nbformat": 4,
  "nbformat_minor": 0,
  "metadata": {
    "colab": {
      "provenance": []
    },
    "kernelspec": {
      "name": "python3",
      "display_name": "Python 3"
    },
    "language_info": {
      "name": "python"
    }
  },
  "cells": [
    {
      "cell_type": "markdown",
      "source": [
        "Assignment 1: Creating and Accessing Tuples\n",
        "Create a tuple with the first 10 positive integers. Print the tuple."
      ],
      "metadata": {
        "id": "d1j8y650Es42"
      }
    },
    {
      "cell_type": "code",
      "source": [
        "number=tuple(range(1,11))\n",
        "print(number)"
      ],
      "metadata": {
        "colab": {
          "base_uri": "https://localhost:8080/"
        },
        "id": "-cY_v6LlEtVF",
        "outputId": "e8f7d6e3-7303-4b77-d9a3-57b78a53f196"
      },
      "execution_count": 1,
      "outputs": [
        {
          "output_type": "stream",
          "name": "stdout",
          "text": [
            "(1, 2, 3, 4, 5, 6, 7, 8, 9, 10)\n"
          ]
        }
      ]
    },
    {
      "cell_type": "markdown",
      "source": [
        "Assignment 2: Accessing Tuple Elements\n",
        "Print the first, middle, and last elements of the tuple created in Assignment 1."
      ],
      "metadata": {
        "id": "pAUYIefOEwIg"
      }
    },
    {
      "cell_type": "code",
      "source": [
        "print(number[0])\n",
        "print(number[len(number)//2])\n",
        "print(number[-1])"
      ],
      "metadata": {
        "colab": {
          "base_uri": "https://localhost:8080/"
        },
        "id": "QJuzX-3-Exsp",
        "outputId": "802d7d7f-efaa-4a75-f4a4-939bbef187bf"
      },
      "execution_count": 3,
      "outputs": [
        {
          "output_type": "stream",
          "name": "stdout",
          "text": [
            "1\n",
            "6\n",
            "10\n"
          ]
        }
      ]
    },
    {
      "cell_type": "markdown",
      "source": [
        "Assignment 3: Tuple Slicing\n",
        "Print the first three elements, the last three elements, and the elements from index 2 to 5 of the tuple created in Assignment 1."
      ],
      "metadata": {
        "id": "J3aC261lE7UG"
      }
    },
    {
      "cell_type": "code",
      "source": [
        "print(number[:3])\n",
        "print(number[-3:])\n",
        "print(number[2:5])"
      ],
      "metadata": {
        "colab": {
          "base_uri": "https://localhost:8080/"
        },
        "id": "hZp7LculE77_",
        "outputId": "1597426a-bdb1-48ab-e53d-e45e318edb2e"
      },
      "execution_count": 6,
      "outputs": [
        {
          "output_type": "stream",
          "name": "stdout",
          "text": [
            "(1, 2, 3)\n",
            "(8, 9, 10)\n",
            "(3, 4, 5)\n"
          ]
        }
      ]
    },
    {
      "cell_type": "markdown",
      "source": [
        "Assignment 4: Nested Tuples\n",
        "Create a nested tuple representing a 3x3 matrix and print the matrix. Access and print the element at the second row and third column."
      ],
      "metadata": {
        "id": "WuMH5Z_jE8o3"
      }
    },
    {
      "cell_type": "code",
      "source": [
        "matrix = (\n",
        "    (1, 2, 3),\n",
        "    (4, 5, 6),\n",
        "    (7, 8, 9)\n",
        ")\n",
        "\n",
        "for row in matrix:\n",
        "    print(row)\n",
        "\n",
        "print(\"Element at 2nd row, 3rd column:\", matrix[1][2])"
      ],
      "metadata": {
        "colab": {
          "base_uri": "https://localhost:8080/"
        },
        "id": "sSoCAJN1E-Xn",
        "outputId": "b1717803-e125-454a-bd41-a7e416f411be"
      },
      "execution_count": 7,
      "outputs": [
        {
          "output_type": "stream",
          "name": "stdout",
          "text": [
            "(1, 2, 3)\n",
            "(4, 5, 6)\n",
            "(7, 8, 9)\n",
            "Element at 2nd row, 3rd column: 6\n"
          ]
        }
      ]
    },
    {
      "cell_type": "markdown",
      "source": [
        "Assignment 5: Tuple Concatenation\n",
        "Concatenate two tuples: (1, 2, 3) and (4, 5, 6). Print the resulting tuple."
      ],
      "metadata": {
        "id": "Mcw2lWPBE_B6"
      }
    },
    {
      "cell_type": "code",
      "source": [
        "t1 = (1, 2, 3)\n",
        "t2 = (4, 5, 6)\n",
        "result = t1 + t2\n",
        "print(result)\n"
      ],
      "metadata": {
        "colab": {
          "base_uri": "https://localhost:8080/"
        },
        "id": "tARtQ5z-FAhX",
        "outputId": "efe24ea5-90dc-4c6a-d079-160ebf5f37d4"
      },
      "execution_count": 8,
      "outputs": [
        {
          "output_type": "stream",
          "name": "stdout",
          "text": [
            "(1, 2, 3, 4, 5, 6)\n"
          ]
        }
      ]
    },
    {
      "cell_type": "markdown",
      "source": [
        "Assignment 6: Tuple Methods\n",
        "Create a tuple with duplicate elements and count the occurrences of an element. Find the index of the first occurrence of an element in the tuple."
      ],
      "metadata": {
        "id": "ua6idxtPFBNT"
      }
    },
    {
      "cell_type": "code",
      "source": [
        "data = (1, 2, 3, 2, 4, 2, 5)\n",
        "print(\"Count of 2:\", data.count(2))\n",
        "print(\"First index of 2:\", data.index(2))\n"
      ],
      "metadata": {
        "colab": {
          "base_uri": "https://localhost:8080/"
        },
        "id": "I3p6dJCQFEJy",
        "outputId": "ad1e5ff8-5f3a-4f8e-c95a-253dcaeb5309"
      },
      "execution_count": 9,
      "outputs": [
        {
          "output_type": "stream",
          "name": "stdout",
          "text": [
            "Count of 2: 3\n",
            "First index of 2: 1\n"
          ]
        }
      ]
    },
    {
      "cell_type": "markdown",
      "source": [
        "Assignment 7: Unpacking Tuples\n",
        "Create a tuple with 5 elements and unpack it into 5 variables. Print the variables."
      ],
      "metadata": {
        "id": "HoVeMAfyFGIM"
      }
    },
    {
      "cell_type": "code",
      "source": [
        "t = (10, 20, 30, 40, 50)\n",
        "a, b, c, d, e = t\n",
        "print(a, b, c, d, e)\n"
      ],
      "metadata": {
        "colab": {
          "base_uri": "https://localhost:8080/"
        },
        "id": "ONxiSkCpFHkX",
        "outputId": "c95797f2-bbba-4e55-9604-37610187dbd3"
      },
      "execution_count": 10,
      "outputs": [
        {
          "output_type": "stream",
          "name": "stdout",
          "text": [
            "10 20 30 40 50\n"
          ]
        }
      ]
    },
    {
      "cell_type": "markdown",
      "source": [
        "Assignment 8: Tuple Conversion\n",
        "Convert a list of the first 5 positive integers to a tuple. Print the tuple."
      ],
      "metadata": {
        "id": "Z9jJVswIFICp"
      }
    },
    {
      "cell_type": "code",
      "source": [
        "lst = [1, 2, 3, 4, 5]\n",
        "tup = tuple(lst)\n",
        "print(tup)\n"
      ],
      "metadata": {
        "colab": {
          "base_uri": "https://localhost:8080/"
        },
        "id": "jIr0GxwtFJcc",
        "outputId": "22a74c4c-62a3-4ef6-cf14-3a9807e076c3"
      },
      "execution_count": 11,
      "outputs": [
        {
          "output_type": "stream",
          "name": "stdout",
          "text": [
            "(1, 2, 3, 4, 5)\n"
          ]
        }
      ]
    },
    {
      "cell_type": "markdown",
      "source": [
        "Assignment 9: Tuple of Tuples\n",
        "Create a tuple containing 3 tuples, each with 3 elements. Print the tuple of tuples."
      ],
      "metadata": {
        "id": "NrzIQ-K0FNOX"
      }
    },
    {
      "cell_type": "code",
      "source": [
        "tup_of_tups = (\n",
        "    (1, 2, 3),\n",
        "    (4, 5, 6),\n",
        "    (7, 8, 9)\n",
        ")\n",
        "print(tup_of_tups)\n"
      ],
      "metadata": {
        "colab": {
          "base_uri": "https://localhost:8080/"
        },
        "id": "hsUYZFrmFNqE",
        "outputId": "f55b6d5b-8fcc-4578-cfa7-e342b28b64b2"
      },
      "execution_count": 12,
      "outputs": [
        {
          "output_type": "stream",
          "name": "stdout",
          "text": [
            "((1, 2, 3), (4, 5, 6), (7, 8, 9))\n"
          ]
        }
      ]
    },
    {
      "cell_type": "markdown",
      "source": [
        "Assignment 10: Tuple and List\n",
        "Create a tuple with the first 5 positive integers. Convert it to a list, append the number 6, and convert it back to a tuple. Print the resulting tuple."
      ],
      "metadata": {
        "id": "viwNFXumFO9T"
      }
    },
    {
      "cell_type": "code",
      "source": [
        "t = (1, 2, 3, 4, 5)\n",
        "lst = list(t)\n",
        "lst.append(6)\n",
        "t_new = tuple(lst)\n",
        "print(t_new)\n"
      ],
      "metadata": {
        "colab": {
          "base_uri": "https://localhost:8080/"
        },
        "id": "64SK9UARFPWA",
        "outputId": "874c99d0-61ca-44de-e113-7daf32127e29"
      },
      "execution_count": 13,
      "outputs": [
        {
          "output_type": "stream",
          "name": "stdout",
          "text": [
            "(1, 2, 3, 4, 5, 6)\n"
          ]
        }
      ]
    },
    {
      "cell_type": "markdown",
      "source": [
        "Assignment 11: Tuple and String\n",
        "Create a tuple with the characters of a string. Join the tuple elements into a single string. Print the string."
      ],
      "metadata": {
        "id": "7nUb0cLLFRA7"
      }
    },
    {
      "cell_type": "code",
      "source": [
        "s = \"hello\"\n",
        "tup = tuple(s)\n",
        "joined = ''.join(tup)\n",
        "print(joined)\n"
      ],
      "metadata": {
        "colab": {
          "base_uri": "https://localhost:8080/"
        },
        "id": "mMgCGNATFRbt",
        "outputId": "561ca02e-61d8-4342-ecc3-0491c5833187"
      },
      "execution_count": 14,
      "outputs": [
        {
          "output_type": "stream",
          "name": "stdout",
          "text": [
            "hello\n"
          ]
        }
      ]
    },
    {
      "cell_type": "markdown",
      "source": [
        "Assignment 12: Tuple and Dictionary\n",
        "Create a dictionary with tuple keys and integer values. Print the dictionary."
      ],
      "metadata": {
        "id": "3QlaL5JBFSkR"
      }
    },
    {
      "cell_type": "code",
      "source": [
        "my_dict = {\n",
        "    (1, 2): 10,\n",
        "    (3, 4): 20,\n",
        "    (5, 6): 30}\n",
        "print(my_dict)\n"
      ],
      "metadata": {
        "colab": {
          "base_uri": "https://localhost:8080/"
        },
        "id": "GKUWPsRbFS9B",
        "outputId": "94db132c-8826-4c4f-e604-d512cb216795"
      },
      "execution_count": 18,
      "outputs": [
        {
          "output_type": "stream",
          "name": "stdout",
          "text": [
            "{(1, 2): 10, (3, 4): 20, (5, 6): 30}\n"
          ]
        }
      ]
    },
    {
      "cell_type": "markdown",
      "source": [
        "Assignment 13: Nested Tuple Iteration\n",
        "Create a nested tuple and iterate over the elements, printing each element."
      ],
      "metadata": {
        "id": "_XWEvSbvFUWA"
      }
    },
    {
      "cell_type": "code",
      "source": [
        "nested = (\n",
        "    (1, 2),\n",
        "    (3, 4),\n",
        "    (5, 6))\n",
        "for row in nested:\n",
        "    for item in row:\n",
        "        print(item)\n"
      ],
      "metadata": {
        "colab": {
          "base_uri": "https://localhost:8080/"
        },
        "id": "jCm3JL7nFU0u",
        "outputId": "55a6c6a7-51d0-40b8-d4b3-f00611438705"
      },
      "execution_count": 17,
      "outputs": [
        {
          "output_type": "stream",
          "name": "stdout",
          "text": [
            "1\n",
            "2\n",
            "3\n",
            "4\n",
            "5\n",
            "6\n"
          ]
        }
      ]
    },
    {
      "cell_type": "markdown",
      "source": [
        "Assignment 14: Tuple and Set\n",
        "Create a tuple with duplicate elements. Convert it to a set to remove duplicates and print the resulting set"
      ],
      "metadata": {
        "id": "Y2QSD_9PFWTT"
      }
    },
    {
      "cell_type": "code",
      "source": [
        "t = (1, 2, 2, 3, 4, 4, 5)\n",
        "s = set(t)\n",
        "print(s)\n"
      ],
      "metadata": {
        "colab": {
          "base_uri": "https://localhost:8080/"
        },
        "id": "au7UCXv9I9AX",
        "outputId": "a9ee9ad6-3b91-4d7d-d69a-813a075a6907"
      },
      "execution_count": 19,
      "outputs": [
        {
          "output_type": "stream",
          "name": "stdout",
          "text": [
            "{1, 2, 3, 4, 5}\n"
          ]
        }
      ]
    },
    {
      "cell_type": "code",
      "source": [],
      "metadata": {
        "id": "4EL2s7ndFWuI"
      },
      "execution_count": null,
      "outputs": []
    },
    {
      "cell_type": "markdown",
      "source": [
        "Assignment 15: Tuple Functions\n",
        "Write functions that take a tuple and return the minimum, maximum, and sum of the elements. Print the results for a sample tuple."
      ],
      "metadata": {
        "id": "mBwmkSQ9FYGV"
      }
    },
    {
      "cell_type": "code",
      "source": [
        "def tuple_stats(t):\n",
        "    return min(t), max(t), sum(t)\n",
        "\n",
        "t = (10, 20, 30, 40)\n",
        "min_val, max_val, total = tuple_stats(t)\n",
        "print(\"Min:\", min_val)\n",
        "print(\"Max:\", max_val)\n",
        "print(\"Sum:\", total)\n"
      ],
      "metadata": {
        "colab": {
          "base_uri": "https://localhost:8080/"
        },
        "id": "zhiSVHq4FYie",
        "outputId": "c54a0f7c-54e0-464b-9783-f06e7d067cbf"
      },
      "execution_count": 20,
      "outputs": [
        {
          "output_type": "stream",
          "name": "stdout",
          "text": [
            "Min: 10\n",
            "Max: 40\n",
            "Sum: 100\n"
          ]
        }
      ]
    },
    {
      "cell_type": "code",
      "source": [],
      "metadata": {
        "id": "YoEmkdnzJGQT"
      },
      "execution_count": null,
      "outputs": []
    }
  ]
}